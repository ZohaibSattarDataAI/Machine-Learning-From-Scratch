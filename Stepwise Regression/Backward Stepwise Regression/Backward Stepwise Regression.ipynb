{
 "cells": [
  {
   "cell_type": "markdown",
   "id": "d22116c2-f9e4-40b7-a0d1-3bd3a5ecac25",
   "metadata": {},
   "source": [
    "# Import libraries\n",
    "\n",
    "### Pandas\n",
    "### Numpy\n",
    "### Seaborn\n",
    "## Matplotlib"
   ]
  },
  {
   "cell_type": "code",
   "execution_count": 1,
   "id": "ca9b07f9-40cd-43d8-9bcc-e478f7c72c62",
   "metadata": {},
   "outputs": [],
   "source": [
    "import pandas as pd\n",
    "import numpy as np\n",
    "import seaborn as sns\n",
    "import matplotlib.pyplot as plt"
   ]
  },
  {
   "cell_type": "markdown",
   "id": "009fdca3-ca46-4295-8e57-e4fbbf87ec2a",
   "metadata": {},
   "source": [
    "### Read the CSV File "
   ]
  },
  {
   "cell_type": "code",
   "execution_count": 2,
   "id": "9f8232ee-fe55-4aaa-871d-50ea94908fe3",
   "metadata": {},
   "outputs": [],
   "source": [
    "df = pd.read_csv(r\"C:\\Users\\zabiz\\Downloads\\ML_Models\\Regression_Models\\Stepwise Regression\\stepwise_regression_dataset.csv\")"
   ]
  },
  {
   "cell_type": "markdown",
   "id": "f5f31298-00e1-4cd6-8b4f-45f6077b3004",
   "metadata": {},
   "source": [
    "### Explore the Data"
   ]
  },
  {
   "cell_type": "code",
   "execution_count": 3,
   "id": "b208979c-29b4-4083-88b2-604381a93d61",
   "metadata": {},
   "outputs": [
    {
     "data": {
      "text/html": [
       "<div>\n",
       "<style scoped>\n",
       "    .dataframe tbody tr th:only-of-type {\n",
       "        vertical-align: middle;\n",
       "    }\n",
       "\n",
       "    .dataframe tbody tr th {\n",
       "        vertical-align: top;\n",
       "    }\n",
       "\n",
       "    .dataframe thead th {\n",
       "        text-align: right;\n",
       "    }\n",
       "</style>\n",
       "<table border=\"1\" class=\"dataframe\">\n",
       "  <thead>\n",
       "    <tr style=\"text-align: right;\">\n",
       "      <th></th>\n",
       "      <th>Age</th>\n",
       "      <th>Experience</th>\n",
       "      <th>Education_Level</th>\n",
       "      <th>Hours_Per_Week</th>\n",
       "      <th>Certifications</th>\n",
       "      <th>Projects</th>\n",
       "      <th>Salary</th>\n",
       "    </tr>\n",
       "  </thead>\n",
       "  <tbody>\n",
       "    <tr>\n",
       "      <th>0</th>\n",
       "      <td>58</td>\n",
       "      <td>44</td>\n",
       "      <td>2</td>\n",
       "      <td>35</td>\n",
       "      <td>5</td>\n",
       "      <td>4</td>\n",
       "      <td>109809</td>\n",
       "    </tr>\n",
       "    <tr>\n",
       "      <th>1</th>\n",
       "      <td>48</td>\n",
       "      <td>31</td>\n",
       "      <td>4</td>\n",
       "      <td>31</td>\n",
       "      <td>2</td>\n",
       "      <td>2</td>\n",
       "      <td>76416</td>\n",
       "    </tr>\n",
       "    <tr>\n",
       "      <th>2</th>\n",
       "      <td>34</td>\n",
       "      <td>16</td>\n",
       "      <td>3</td>\n",
       "      <td>46</td>\n",
       "      <td>2</td>\n",
       "      <td>2</td>\n",
       "      <td>57051</td>\n",
       "    </tr>\n",
       "    <tr>\n",
       "      <th>3</th>\n",
       "      <td>27</td>\n",
       "      <td>8</td>\n",
       "      <td>4</td>\n",
       "      <td>34</td>\n",
       "      <td>1</td>\n",
       "      <td>1</td>\n",
       "      <td>46508</td>\n",
       "    </tr>\n",
       "    <tr>\n",
       "      <th>4</th>\n",
       "      <td>40</td>\n",
       "      <td>26</td>\n",
       "      <td>1</td>\n",
       "      <td>54</td>\n",
       "      <td>1</td>\n",
       "      <td>4</td>\n",
       "      <td>71937</td>\n",
       "    </tr>\n",
       "  </tbody>\n",
       "</table>\n",
       "</div>"
      ],
      "text/plain": [
       "   Age  Experience  Education_Level  Hours_Per_Week  Certifications  Projects  \\\n",
       "0   58          44                2              35               5         4   \n",
       "1   48          31                4              31               2         2   \n",
       "2   34          16                3              46               2         2   \n",
       "3   27           8                4              34               1         1   \n",
       "4   40          26                1              54               1         4   \n",
       "\n",
       "   Salary  \n",
       "0  109809  \n",
       "1   76416  \n",
       "2   57051  \n",
       "3   46508  \n",
       "4   71937  "
      ]
     },
     "execution_count": 3,
     "metadata": {},
     "output_type": "execute_result"
    }
   ],
   "source": [
    "df.head()"
   ]
  },
  {
   "cell_type": "markdown",
   "id": "e8ec8f8c-e9f1-4d56-a36e-f316de4936e1",
   "metadata": {},
   "source": [
    "### Check the total number of Rows and Columns"
   ]
  },
  {
   "cell_type": "code",
   "execution_count": 4,
   "id": "e2a860e8-225a-451d-bb31-7b317908d398",
   "metadata": {},
   "outputs": [
    {
     "data": {
      "text/plain": [
       "(500, 7)"
      ]
     },
     "execution_count": 4,
     "metadata": {},
     "output_type": "execute_result"
    }
   ],
   "source": [
    "df.shape"
   ]
  },
  {
   "cell_type": "markdown",
   "id": "e5ece096-8c52-4d4d-9334-9b441722c33e",
   "metadata": {},
   "source": [
    "### Check the Null Values"
   ]
  },
  {
   "cell_type": "code",
   "execution_count": 5,
   "id": "c3f499fd-3755-4162-a99a-97b4d94af8da",
   "metadata": {},
   "outputs": [
    {
     "data": {
      "text/plain": [
       "Age                0\n",
       "Experience         0\n",
       "Education_Level    0\n",
       "Hours_Per_Week     0\n",
       "Certifications     0\n",
       "Projects           0\n",
       "Salary             0\n",
       "dtype: int64"
      ]
     },
     "execution_count": 5,
     "metadata": {},
     "output_type": "execute_result"
    }
   ],
   "source": [
    "df.isnull().sum()"
   ]
  },
  {
   "cell_type": "markdown",
   "id": "faf43fc1-3e17-4d40-b1a0-77fbd766a3ed",
   "metadata": {},
   "source": [
    "### Check Inofrmation about the data"
   ]
  },
  {
   "cell_type": "code",
   "execution_count": 6,
   "id": "ab1b7ccd-c1e5-4be4-90e5-f9418a3e3d8d",
   "metadata": {},
   "outputs": [
    {
     "name": "stdout",
     "output_type": "stream",
     "text": [
      "<class 'pandas.core.frame.DataFrame'>\n",
      "RangeIndex: 500 entries, 0 to 499\n",
      "Data columns (total 7 columns):\n",
      " #   Column           Non-Null Count  Dtype\n",
      "---  ------           --------------  -----\n",
      " 0   Age              500 non-null    int64\n",
      " 1   Experience       500 non-null    int64\n",
      " 2   Education_Level  500 non-null    int64\n",
      " 3   Hours_Per_Week   500 non-null    int64\n",
      " 4   Certifications   500 non-null    int64\n",
      " 5   Projects         500 non-null    int64\n",
      " 6   Salary           500 non-null    int64\n",
      "dtypes: int64(7)\n",
      "memory usage: 27.5 KB\n"
     ]
    }
   ],
   "source": [
    "df.info()"
   ]
  },
  {
   "cell_type": "markdown",
   "id": "13da9e95-daf1-4684-8400-b852a954277a",
   "metadata": {},
   "source": [
    "### Check the Stastistical Summary of the data"
   ]
  },
  {
   "cell_type": "code",
   "execution_count": 7,
   "id": "0ae89c3d-54db-4af7-883c-45841f799e5d",
   "metadata": {},
   "outputs": [
    {
     "data": {
      "text/html": [
       "<div>\n",
       "<style scoped>\n",
       "    .dataframe tbody tr th:only-of-type {\n",
       "        vertical-align: middle;\n",
       "    }\n",
       "\n",
       "    .dataframe tbody tr th {\n",
       "        vertical-align: top;\n",
       "    }\n",
       "\n",
       "    .dataframe thead th {\n",
       "        text-align: right;\n",
       "    }\n",
       "</style>\n",
       "<table border=\"1\" class=\"dataframe\">\n",
       "  <thead>\n",
       "    <tr style=\"text-align: right;\">\n",
       "      <th></th>\n",
       "      <th>Age</th>\n",
       "      <th>Experience</th>\n",
       "      <th>Education_Level</th>\n",
       "      <th>Hours_Per_Week</th>\n",
       "      <th>Certifications</th>\n",
       "      <th>Projects</th>\n",
       "      <th>Salary</th>\n",
       "    </tr>\n",
       "  </thead>\n",
       "  <tbody>\n",
       "    <tr>\n",
       "      <th>count</th>\n",
       "      <td>500.000000</td>\n",
       "      <td>500.00000</td>\n",
       "      <td>500.000000</td>\n",
       "      <td>500.000000</td>\n",
       "      <td>500.000000</td>\n",
       "      <td>500.000000</td>\n",
       "      <td>500.000000</td>\n",
       "    </tr>\n",
       "    <tr>\n",
       "      <th>mean</th>\n",
       "      <td>40.436000</td>\n",
       "      <td>23.47000</td>\n",
       "      <td>2.470000</td>\n",
       "      <td>44.738000</td>\n",
       "      <td>2.536000</td>\n",
       "      <td>4.986000</td>\n",
       "      <td>70977.452000</td>\n",
       "    </tr>\n",
       "    <tr>\n",
       "      <th>std</th>\n",
       "      <td>11.656142</td>\n",
       "      <td>11.95705</td>\n",
       "      <td>1.107951</td>\n",
       "      <td>8.762586</td>\n",
       "      <td>1.715398</td>\n",
       "      <td>2.522405</td>\n",
       "      <td>20312.338197</td>\n",
       "    </tr>\n",
       "    <tr>\n",
       "      <th>min</th>\n",
       "      <td>20.000000</td>\n",
       "      <td>0.00000</td>\n",
       "      <td>1.000000</td>\n",
       "      <td>30.000000</td>\n",
       "      <td>0.000000</td>\n",
       "      <td>1.000000</td>\n",
       "      <td>15654.000000</td>\n",
       "    </tr>\n",
       "    <tr>\n",
       "      <th>25%</th>\n",
       "      <td>31.000000</td>\n",
       "      <td>14.00000</td>\n",
       "      <td>1.000000</td>\n",
       "      <td>37.000000</td>\n",
       "      <td>1.000000</td>\n",
       "      <td>3.000000</td>\n",
       "      <td>55518.500000</td>\n",
       "    </tr>\n",
       "    <tr>\n",
       "      <th>50%</th>\n",
       "      <td>42.000000</td>\n",
       "      <td>26.00000</td>\n",
       "      <td>2.000000</td>\n",
       "      <td>44.500000</td>\n",
       "      <td>3.000000</td>\n",
       "      <td>5.000000</td>\n",
       "      <td>73160.000000</td>\n",
       "    </tr>\n",
       "    <tr>\n",
       "      <th>75%</th>\n",
       "      <td>51.000000</td>\n",
       "      <td>33.00000</td>\n",
       "      <td>3.000000</td>\n",
       "      <td>53.000000</td>\n",
       "      <td>4.000000</td>\n",
       "      <td>7.000000</td>\n",
       "      <td>85700.500000</td>\n",
       "    </tr>\n",
       "    <tr>\n",
       "      <th>max</th>\n",
       "      <td>59.000000</td>\n",
       "      <td>45.00000</td>\n",
       "      <td>4.000000</td>\n",
       "      <td>59.000000</td>\n",
       "      <td>5.000000</td>\n",
       "      <td>9.000000</td>\n",
       "      <td>114309.000000</td>\n",
       "    </tr>\n",
       "  </tbody>\n",
       "</table>\n",
       "</div>"
      ],
      "text/plain": [
       "              Age  Experience  Education_Level  Hours_Per_Week  \\\n",
       "count  500.000000   500.00000       500.000000      500.000000   \n",
       "mean    40.436000    23.47000         2.470000       44.738000   \n",
       "std     11.656142    11.95705         1.107951        8.762586   \n",
       "min     20.000000     0.00000         1.000000       30.000000   \n",
       "25%     31.000000    14.00000         1.000000       37.000000   \n",
       "50%     42.000000    26.00000         2.000000       44.500000   \n",
       "75%     51.000000    33.00000         3.000000       53.000000   \n",
       "max     59.000000    45.00000         4.000000       59.000000   \n",
       "\n",
       "       Certifications    Projects         Salary  \n",
       "count      500.000000  500.000000     500.000000  \n",
       "mean         2.536000    4.986000   70977.452000  \n",
       "std          1.715398    2.522405   20312.338197  \n",
       "min          0.000000    1.000000   15654.000000  \n",
       "25%          1.000000    3.000000   55518.500000  \n",
       "50%          3.000000    5.000000   73160.000000  \n",
       "75%          4.000000    7.000000   85700.500000  \n",
       "max          5.000000    9.000000  114309.000000  "
      ]
     },
     "execution_count": 7,
     "metadata": {},
     "output_type": "execute_result"
    }
   ],
   "source": [
    "df.describe()"
   ]
  },
  {
   "cell_type": "markdown",
   "id": "d9eb0071-c5fd-4fa3-a595-1e57ec6d6fea",
   "metadata": {},
   "source": [
    "### Check the outlier in data with the boxplot"
   ]
  },
  {
   "cell_type": "code",
   "execution_count": 8,
   "id": "15dc138f-087e-435e-b5a6-b69ac977076e",
   "metadata": {},
   "outputs": [
    {
     "data": {
      "image/png": "[encoded data removed]",
      "text/plain": [
       "<Figure size 640x480 with 1 Axes>"
      ]
     },
     "metadata": {},
     "output_type": "display_data"
    }
   ],
   "source": [
    "sns.boxplot(data=df,orient='h')\n",
    "plt.title(\"Check the outlier in the dataset\")\n",
    "plt.show()"
   ]
  },
  {
   "cell_type": "markdown",
   "id": "b70bc6ca-60ad-4fa4-8b8e-1d01a2c393eb",
   "metadata": {},
   "source": [
    "### Check the relationship between the columns through pairplot "
   ]
  },
  {
   "cell_type": "code",
   "execution_count": null,
   "id": "5e0923ed-2ebb-42e9-9d13-15ce06b0caf4",
   "metadata": {},
   "outputs": [],
   "source": [
    "sns.pairplot(data=df)\n",
    "plt.title(\"Check the Relationship between the columns\")\n",
    "plt.show()"
   ]
  },
  {
   "cell_type": "code",
   "execution_count": null,
   "id": "a348d3db-b8cf-4eed-bcaa-b8e19b99ff3d",
   "metadata": {},
   "outputs": [],
   "source": [
    "sns.heatmap(df.corr(),annot=True , cmap='coolwarm')\n",
    "plt.title(\"Check the co-relationship between the columns\")\n",
    "plt.show()"
   ]
  },
  {
   "cell_type": "code",
   "execution_count": null,
   "id": "cd182aaf-ce54-44cc-bdf5-5f41bf07a709",
   "metadata": {},
   "outputs": [],
   "source": [
    "sns.scatterplot(x=\"Age\",y=\"Salary\",data=df)\n",
    "plt.title(\"Highly Positive Co-relation\")\n",
    "plt.show()"
   ]
  },
  {
   "cell_type": "markdown",
   "id": "8295bb1f-960c-41c0-8552-65521481dac2",
   "metadata": {},
   "source": [
    "### Split the data in x and y (Dependent & Independent Variable)"
   ]
  },
  {
   "cell_type": "code",
   "execution_count": null,
   "id": "3a61f1fa-b9f9-447a-a3bc-ca6904c918b2",
   "metadata": {},
   "outputs": [],
   "source": [
    "x = df.iloc[:,:-1]\n",
    "y = df[[\"Salary\"]]"
   ]
  },
  {
   "cell_type": "markdown",
   "id": "8e7ebbd8-336c-4dbe-bc72-f6a8816f268c",
   "metadata": {},
   "source": [
    "### Import Train Test Split From sklearn module model_selection for spliting the data in Training and Testing "
   ]
  },
  {
   "cell_type": "code",
   "execution_count": null,
   "id": "de264b8a-3e44-4678-baa5-b9ec92785ab4",
   "metadata": {},
   "outputs": [],
   "source": [
    "from sklearn.model_selection import train_test_split"
   ]
  },
  {
   "cell_type": "markdown",
   "id": "1c7a3c9b-5fba-4a28-b733-abfe5978abc6",
   "metadata": {},
   "source": [
    "### Split the data in traning and testing "
   ]
  },
  {
   "cell_type": "code",
   "execution_count": null,
   "id": "9e8ac8ce-6344-4dbe-9e27-278f50fb9350",
   "metadata": {},
   "outputs": [],
   "source": [
    "x_train,x_test,y_train,y_test = train_test_split(x,y,test_size=0.2,random_state=42)"
   ]
  },
  {
   "cell_type": "markdown",
   "id": "8a19b8cd-8dd1-4f00-a68a-538e028db5bd",
   "metadata": {},
   "source": [
    "### Import Machine Learning Model LinearRegression from sklearn module Linear Model"
   ]
  },
  {
   "cell_type": "code",
   "execution_count": null,
   "id": "d8029509-6a5c-4a42-a016-ec9980de9682",
   "metadata": {},
   "outputs": [],
   "source": [
    "from sklearn.linear_model import LinearRegression"
   ]
  },
  {
   "cell_type": "markdown",
   "id": "7d61ac45-f9cd-4cea-978f-83337bb4d7c4",
   "metadata": {},
   "source": [
    "### Store the model in lr variable"
   ]
  },
  {
   "cell_type": "code",
   "execution_count": null,
   "id": "71a1713a-0812-4966-8a5e-054335186aea",
   "metadata": {},
   "outputs": [],
   "source": [
    "lr= LinearRegression()"
   ]
  },
  {
   "cell_type": "markdown",
   "id": "ad12bcda-fbeb-4261-b73c-3d0d4840d683",
   "metadata": {},
   "source": [
    "### Sequential Feature Selector (SFS) using mlxtend"
   ]
  },
  {
   "cell_type": "code",
   "execution_count": null,
   "id": "d8e8a875-423f-4407-80a3-3c8d4f897543",
   "metadata": {},
   "outputs": [],
   "source": [
    "from mlxtend.feature_selection import SequentialFeatureSelector as SFS"
   ]
  },
  {
   "cell_type": "markdown",
   "id": "94026d53-3749-4f3e-a383-853f72c0f89e",
   "metadata": {},
   "source": [
    "### Applying Sequential Feature Selector (SFS) with R² Scoring\n",
    "\n",
    "### **This is Backward+Stepwise Regression**"
   ]
  },
  {
   "cell_type": "code",
   "execution_count": null,
   "id": "5054bef4-6b62-4583-a5cd-c0d2263a1383",
   "metadata": {},
   "outputs": [],
   "source": [
    "sfs = SFS(lr,k_features=\"best\", forward=False, floating=False,scoring=\"r2\",cv=5)  "
   ]
  },
  {
   "cell_type": "markdown",
   "id": "0a633715-f08e-45d9-8b23-f62672d9947a",
   "metadata": {},
   "source": [
    "### Fitting Sequential Feature Selector on Training Data"
   ]
  },
  {
   "cell_type": "code",
   "execution_count": null,
   "id": "108a1673-152a-49a8-b93b-f4efb7dfa0c8",
   "metadata": {},
   "outputs": [],
   "source": [
    "sfs.fit(x_train,y_train)"
   ]
  },
  {
   "cell_type": "markdown",
   "id": "f3d6a8f5-58e9-42fb-b249-ac8e1e884b3c",
   "metadata": {},
   "source": [
    "### Displaying the Selected Features"
   ]
  },
  {
   "cell_type": "code",
   "execution_count": null,
   "id": "c87c05df-6bc9-4683-8b88-14f951067bda",
   "metadata": {},
   "outputs": [],
   "source": [
    "print(\"Selected Features:\", sfs.k_feature_names_)"
   ]
  },
  {
   "cell_type": "markdown",
   "id": "06aeeac6-d93d-4c9f-819a-1292c721249d",
   "metadata": {},
   "source": [
    "### Transforming the Dataset with Selected Features"
   ]
  },
  {
   "cell_type": "code",
   "execution_count": null,
   "id": "225f28b1-7873-4400-b1ef-6421b1c4678a",
   "metadata": {},
   "outputs": [],
   "source": [
    "x_train_sfs = sfs.transform(x_train)\n",
    "x_test_sfs = sfs.transform(x_test)"
   ]
  },
  {
   "cell_type": "markdown",
   "id": "7defc37f-4987-4558-b430-0de5de9de2ce",
   "metadata": {},
   "source": [
    "### Training the Model with Selected Features"
   ]
  },
  {
   "cell_type": "code",
   "execution_count": null,
   "id": "190f0f78-e254-43b8-a7df-a575aa7de944",
   "metadata": {},
   "outputs": [],
   "source": [
    "lr.fit(x_train_sfs, y_train)"
   ]
  },
  {
   "cell_type": "markdown",
   "id": "8a431153-a244-4a6d-bf17-ad95bedf07c0",
   "metadata": {},
   "source": [
    "### Model Evaluation on Training and Testing Data"
   ]
  },
  {
   "cell_type": "code",
   "execution_count": null,
   "id": "8a116857-0600-4bea-a121-3a5bac873d35",
   "metadata": {},
   "outputs": [],
   "source": [
    "lr.score(x_test_sfs,y_test)*100,lr.score(x_train_sfs,y_train)*100"
   ]
  },
  {
   "cell_type": "markdown",
   "id": "90a21e8d-9edd-4b0a-a81b-b78879055115",
   "metadata": {},
   "source": [
    "### Transforming the Dataset with Selected Features"
   ]
  },
  {
   "cell_type": "code",
   "execution_count": null,
   "id": "8329b39e-13e7-4416-8f53-d4484f3c6abd",
   "metadata": {},
   "outputs": [],
   "source": [
    "x_sfs = sfs.transform(x)"
   ]
  },
  {
   "cell_type": "markdown",
   "id": "476b0e20-d6da-441a-a6a6-d1ce62e53ea4",
   "metadata": {},
   "source": [
    "### Adding Predictions to the Dataset"
   ]
  },
  {
   "cell_type": "code",
   "execution_count": null,
   "id": "c8e4fa62-ab28-4f30-bebf-832041ea828a",
   "metadata": {},
   "outputs": [],
   "source": [
    "df[\"Prediction\"] = lr.predict(x_sfs)\n",
    "df.head()"
   ]
  },
  {
   "cell_type": "markdown",
   "id": "31b414b0-0a4f-4705-ae66-0d931edcfde4",
   "metadata": {},
   "source": [
    "### Importing Performance Evaluation Metrics"
   ]
  },
  {
   "cell_type": "code",
   "execution_count": null,
   "id": "01b69844-015c-45c5-885f-dd6e16817a32",
   "metadata": {},
   "outputs": [],
   "source": [
    "from sklearn.metrics import mean_absolute_error, mean_squared_error, r2_score"
   ]
  },
  {
   "cell_type": "markdown",
   "id": "1379effc-ecce-43fd-91f1-69dbb5d19d35",
   "metadata": {},
   "source": [
    "### Model Evaluation\n",
    "\n",
    "We evaluate the regression model using different metrics:\n",
    "\n",
    "- **MAE (Mean Absolute Error):** Average of absolute errors.  \n",
    "- **MSE (Mean Squared Error):** Average of squared errors.  \n",
    "- **RMSE (Root Mean Squared Error):** Square root of MSE, penalizes large errors more.  \n",
    "- **R² Score (Coefficient of Determination):** Indicates how well the model explains the variance.\n",
    "\n"
   ]
  },
  {
   "cell_type": "code",
   "execution_count": null,
   "id": "27dc0d8a-b158-433b-9b90-d10c5a26b882",
   "metadata": {},
   "outputs": [],
   "source": [
    "y_pred = lr.predict(x_test_sfs)\n",
    "\n",
    "mae = mean_absolute_error(y_test, y_pred)\n",
    "mse = mean_squared_error(y_test, y_pred)\n",
    "rmse = np.sqrt(mse)\n",
    "r2 = r2_score(y_test, y_pred)\n",
    "\n",
    "\n",
    "print(f\"📉 MAE: {mae:.2f}\")\n",
    "print(f\"📉 MSE: {mse:.2f}\")\n",
    "print(f\"📉 RMSE: {rmse:.2f}\")\n",
    "print(f\"🎯 R² Score: {r2 * 100:.2f}\")\n"
   ]
  },
  {
   "cell_type": "markdown",
   "id": "cc4216d1-b41c-4706-9ba9-a133b68784b1",
   "metadata": {},
   "source": [
    "### Check the Performance of the model through Data Visualization "
   ]
  },
  {
   "cell_type": "code",
   "execution_count": null,
   "id": "9af114b6-cb53-4db8-8750-81dd3c6b6d77",
   "metadata": {},
   "outputs": [],
   "source": [
    "# Make sure y_test is 1D (in case it's a DataFrame)\n",
    "y_test_flat = y_test.values.ravel()\n",
    "y_pred_flat = y_pred.ravel()\n",
    "plt.figure(figsize=(10, 6))\n",
    "sns.scatterplot(x=y_test_flat, y=y_pred_flat, color='skyblue', label='Predictions')\n",
    "plt.plot([y_test_flat.min(), y_test_flat.max()], [y_test_flat.min(), y_test_flat.max()], color='red', linestyle='--', label='Ideal Prediction')\n",
    "plt.xlabel(\"Salary\")\n",
    "plt.ylabel(\"Predicted Salary\")\n",
    "plt.title(\"Actual vs Predicted Salary\")\n",
    "plt.legend()\n",
    "plt.grid(True)\n",
    "plt.show()\n"
   ]
  },
  {
   "cell_type": "markdown",
   "id": "163cef44-0bb7-4cd9-aeb3-5ebf8d6a7beb",
   "metadata": {},
   "source": [
    "## 📌 Conclusion\n",
    "\n",
    "In this project, we implemented a **Backward Stepwise Regression** model, a feature selection technique that incrementally adds predictors to build the most effective regression model based on performance metrics.  \n",
    "The workflow included:  \n",
    "- Data loading and preprocessing  \n",
    "- Splitting data into training and testing sets  \n",
    "- Applying Forward Stepwise Feature Selection  \n",
    "- Training the Linear Regression model on selected features  \n",
    "- Evaluation using MAE, MSE, RMSE, and R² Score  \n",
    "\n",
    "**Model Performance (Test Set):**\n",
    "- 📉 MAE: 3,735.76  \n",
    "- 📉 MSE: 22,214,443.09  \n",
    "- 📉 RMSE: 4,713.22  \n",
    "- 🎯 R² Score: 94.37%  \n",
    "\n",
    "These results demonstrate **strong predictive accuracy** with minimal overfitting, as training R² (94.18%) and testing R² (94.37%) are closely aligned.  \n",
    "The backward Stepwise approach successfully identified a compact, interpretable subset of features that explain a high proportion of variance in Salary, reducing complexity without sacrificing performance.  \n",
    "\n",
    "Future improvements could include adding residual diagnostics, testing with backward or floating stepwise methods, and comparing against a full-feature regression model to validate the gains from feature selection.  \n"
   ]
  },
  {
   "cell_type": "code",
   "execution_count": null,
   "id": "cee4e500-cd23-4988-bba8-d2a55156189c",
   "metadata": {},
   "outputs": [],
   "source": []
  }
 ],
 "metadata": {
  "kernelspec": {
   "display_name": "Python 3 (ipykernel)",
   "language": "python",
   "name": "python3"
  },
  "language_info": {
   "codemirror_mode": {
    "name": "ipython",
    "version": 3
   },
   "file_extension": ".py",
   "mimetype": "text/x-python",
   "name": "python",
   "nbconvert_exporter": "python",
   "pygments_lexer": "ipython3",
   "version": "3.11.0"
  }
 },
 "nbformat": 4,
 "nbformat_minor": 5
}
