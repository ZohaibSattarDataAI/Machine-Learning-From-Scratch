{
 "cells": [
  {
   "cell_type": "markdown",
   "id": "c72bd9f8-08ea-4f60-bdee-bb5956e75027",
   "metadata": {},
   "source": [
    "# Import libraries\n",
    "\n",
    "### Pandas\n",
    "### Numpy\n",
    "### Seaborn\n",
    "## Matplotlib"
   ]
  },
  {
   "cell_type": "code",
   "execution_count": null,
   "id": "d2198fc0-d737-48f8-9c27-4672abdadbf0",
   "metadata": {},
   "outputs": [],
   "source": [
    "import pandas as pd\n",
    "import numpy as np\n",
    "import seaborn as sns\n",
    "import matplotlib.pyplot as plt"
   ]
  },
  {
   "cell_type": "markdown",
   "id": "d35381f2-d4f9-4b31-a34d-793567aa0308",
   "metadata": {},
   "source": [
    "### Read the CSV File "
   ]
  },
  {
   "cell_type": "code",
   "execution_count": null,
   "id": "d4285656-2255-46a0-b9f3-6ee7ea5b146b",
   "metadata": {},
   "outputs": [],
   "source": [
    "df = pd.read_csv(r\"C:\\Users\\zabiz\\Downloads\\ML_Models\\Regression_Models\\Theil-Sen Regression/covid_vaccine_efficacy_dataset.csv\")"
   ]
  },
  {
   "cell_type": "markdown",
   "id": "a28dc0d4-1f27-4cb4-af05-ab4d0267357e",
   "metadata": {},
   "source": [
    "### Explore the Data"
   ]
  },
  {
   "cell_type": "code",
   "execution_count": null,
   "id": "9f2c48c3-50e7-4c22-8e84-875716d382d3",
   "metadata": {},
   "outputs": [],
   "source": [
    "df.head()"
   ]
  },
  {
   "cell_type": "markdown",
   "id": "8e23eaa2-9894-421b-af27-488cf16d312c",
   "metadata": {},
   "source": [
    "### Remove Irrelevant Columns"
   ]
  },
  {
   "cell_type": "code",
   "execution_count": null,
   "id": "e244d4bc-e76c-46d7-8988-cc2e8532e4b3",
   "metadata": {},
   "outputs": [],
   "source": [
    "df = df.drop(columns=[\"Month\"], axis=1)"
   ]
  },
  {
   "cell_type": "markdown",
   "id": "c416db54-fd41-4eb9-a7a5-5b331b829ea7",
   "metadata": {},
   "source": [
    "### Check it the column remove successfully or not ( Successfully removed it)"
   ]
  },
  {
   "cell_type": "code",
   "execution_count": null,
   "id": "194aacb6-2c3d-47fb-8aec-b194aabaf3d9",
   "metadata": {},
   "outputs": [],
   "source": [
    "df.head()"
   ]
  },
  {
   "cell_type": "markdown",
   "id": "00299397-c1e7-4916-841e-ff506e0e7eef",
   "metadata": {},
   "source": [
    "### Import Label Encdoer from sklearn with Module preprocessing for convert categorical data into Numerical "
   ]
  },
  {
   "cell_type": "code",
   "execution_count": null,
   "id": "42a8e9f4-f031-494a-9d65-2d8e1be19e4c",
   "metadata": {},
   "outputs": [],
   "source": [
    "from sklearn.preprocessing import LabelEncoder"
   ]
  },
  {
   "cell_type": "markdown",
   "id": "f1a01c3b-ada3-40d8-8aa8-5ca2f8bcc73d",
   "metadata": {},
   "source": [
    "### Apply Label Encoder"
   ]
  },
  {
   "cell_type": "code",
   "execution_count": null,
   "id": "6d90cfc0-3541-4dec-9b22-24d9eb96ef8e",
   "metadata": {},
   "outputs": [],
   "source": [
    "le = LabelEncoder()\n",
    "df[\"Country\"] = le.fit_transform(df[\"Country\"])"
   ]
  },
  {
   "cell_type": "markdown",
   "id": "ada692cd-9c0e-442d-a079-b5a7ff02696e",
   "metadata": {},
   "source": [
    "### Check the country column convert into numerical or not (sucessfully converted into numerical)"
   ]
  },
  {
   "cell_type": "code",
   "execution_count": null,
   "id": "9fb9c442-c006-49e4-9dd0-e111d3fc912a",
   "metadata": {},
   "outputs": [],
   "source": [
    "df.head()"
   ]
  },
  {
   "cell_type": "markdown",
   "id": "77eaf0ef-44a1-4530-8c91-f48bf53999f9",
   "metadata": {},
   "source": [
    "### Check the Null Values"
   ]
  },
  {
   "cell_type": "code",
   "execution_count": null,
   "id": "521e785e-1137-4550-94e9-deaf29dd64b9",
   "metadata": {},
   "outputs": [],
   "source": [
    "df.isnull().sum()"
   ]
  },
  {
   "cell_type": "markdown",
   "id": "73a1cea0-3f3b-4d99-a0d4-798ec4b7d5e7",
   "metadata": {},
   "source": [
    "### Check Inofrmation about the data"
   ]
  },
  {
   "cell_type": "code",
   "execution_count": null,
   "id": "f6f34e4f-c176-44e3-a93e-6e60709b9d5e",
   "metadata": {},
   "outputs": [],
   "source": [
    "df.info()"
   ]
  },
  {
   "cell_type": "markdown",
   "id": "ce9d5855-6f1b-4b9c-9e42-d84a347ce61c",
   "metadata": {},
   "source": [
    "### Check the Stastistical Summary of the data"
   ]
  },
  {
   "cell_type": "code",
   "execution_count": null,
   "id": "c8c8d218-a446-4e8d-a592-fdc5264ba3bc",
   "metadata": {},
   "outputs": [],
   "source": [
    "df.describe()"
   ]
  },
  {
   "cell_type": "markdown",
   "id": "c00e57e8-2d5e-4e6d-aade-7605d1196591",
   "metadata": {},
   "source": [
    "### Check the outlier in data with the boxplot"
   ]
  },
  {
   "cell_type": "code",
   "execution_count": null,
   "id": "9f57d411-8ea8-4fd9-a7a7-691005d53856",
   "metadata": {},
   "outputs": [],
   "source": [
    "plt.figure(figsize=(15,8))\n",
    "sns.boxplot(data=df, orient='h')\n",
    "plt.title(\"Boxplot\")\n",
    "plt.show()\n"
   ]
  },
  {
   "cell_type": "markdown",
   "id": "bfd69849-8449-4a00-aced-c0fb2c8a7e78",
   "metadata": {},
   "source": [
    "### Check the relationship between the columns through pairplot "
   ]
  },
  {
   "cell_type": "markdown",
   "id": "73333066-ec1c-4dd8-9be4-a991edc625bb",
   "metadata": {},
   "source": [
    "sns.pairplot(data=df)\n",
    "plt.title(\"PairPlot\")\n",
    "plt.show()"
   ]
  },
  {
   "cell_type": "markdown",
   "id": "758faac7-be3b-414d-9f1b-ec36ded7b25f",
   "metadata": {},
   "source": [
    "### Check the co-relationship between the column through heatmap"
   ]
  },
  {
   "cell_type": "code",
   "execution_count": null,
   "id": "3a31ed07-0a66-4cf6-aef5-536e78bb3572",
   "metadata": {},
   "outputs": [],
   "source": [
    "sns.heatmap(df.corr(),annot=True,cmap=\"coolwarm\")\n",
    "plt.title(\"Heatmap\")\n",
    "plt.show()"
   ]
  },
  {
   "cell_type": "markdown",
   "id": "54dc4534-9339-4410-b4fe-d60aaaff2382",
   "metadata": {},
   "source": [
    "### Split the data in x and y (Dependent & Independent Variable)"
   ]
  },
  {
   "cell_type": "code",
   "execution_count": null,
   "id": "4f5c67dd-7521-4ee2-87f9-bb36d69d5ec6",
   "metadata": {},
   "outputs": [],
   "source": [
    "x = df.iloc[:,:-1]\n",
    "y = df[[\"Case_Reduction_Rate\"]]"
   ]
  },
  {
   "cell_type": "markdown",
   "id": "9f299f48-289c-43c0-b983-26c054d34a4d",
   "metadata": {},
   "source": [
    "### Import Train Test Split From sklearn module model_selection for spliting the data in Training and Testing "
   ]
  },
  {
   "cell_type": "code",
   "execution_count": null,
   "id": "c194c360-1fb0-4130-84b2-421ecce2eeb2",
   "metadata": {},
   "outputs": [],
   "source": [
    "from sklearn.model_selection import train_test_split"
   ]
  },
  {
   "cell_type": "markdown",
   "id": "20def023-4468-4a78-bcb3-e3ae634b6a9d",
   "metadata": {},
   "source": [
    "### Split the data in traning and testing "
   ]
  },
  {
   "cell_type": "code",
   "execution_count": null,
   "id": "60f87398-01a6-4619-ba5e-6df1eb675b8b",
   "metadata": {},
   "outputs": [],
   "source": [
    "x_train,x_test,y_train,y_test = train_test_split(x,y,test_size=0.4,random_state=42)"
   ]
  },
  {
   "cell_type": "markdown",
   "id": "6b796794-60b5-4d86-9c96-bad0f01e34be",
   "metadata": {},
   "source": [
    "### Import Machine Learning Model TheilSenRegression from sklearn module Linear Model"
   ]
  },
  {
   "cell_type": "code",
   "execution_count": null,
   "id": "ea0ef6ee-778d-4423-b4c8-d181bfa88791",
   "metadata": {},
   "outputs": [],
   "source": [
    "from sklearn.linear_model import TheilSenRegressor"
   ]
  },
  {
   "cell_type": "markdown",
   "id": "7e8c36ef-2bdc-4273-be6d-82f22ad4f69b",
   "metadata": {},
   "source": [
    "### Apply/Fit the model"
   ]
  },
  {
   "cell_type": "code",
   "execution_count": null,
   "id": "4d06f9c5-993d-4c7a-b3a9-0e1f5a0ebaae",
   "metadata": {},
   "outputs": [],
   "source": [
    "tsr = TheilSenRegressor()\n",
    "tsr.fit(x_train,y_train)"
   ]
  },
  {
   "cell_type": "markdown",
   "id": "0d91c996-4437-40d1-ba42-fafd50e110b0",
   "metadata": {},
   "source": [
    "### Check the score (accurray) of the model for check the scanerio of the **overfitting** (But Our Model is not **overrfit**)"
   ]
  },
  {
   "cell_type": "code",
   "execution_count": null,
   "id": "93b0c768-07cb-4c8a-b5a8-73eecc94774d",
   "metadata": {},
   "outputs": [],
   "source": [
    "tsr.score(x_test,y_test)*100,tsr.score(x_train,y_train)*100,"
   ]
  },
  {
   "cell_type": "code",
   "execution_count": null,
   "id": "b3369f1b-ad6b-4b03-beb1-54cc681805d5",
   "metadata": {},
   "outputs": [],
   "source": [
    "#print(x_train.shape, x_test.shape)"
   ]
  },
  {
   "cell_type": "markdown",
   "id": "4508ff2d-856f-4408-8fb3-1915d165cfac",
   "metadata": {},
   "source": [
    "### Import Metrics from sklearn to check overall performace of the model¶"
   ]
  },
  {
   "cell_type": "code",
   "execution_count": null,
   "id": "c4872ed8-6d44-4468-aec4-71e58acd2b72",
   "metadata": {},
   "outputs": [],
   "source": [
    "from sklearn.metrics import mean_absolute_error, mean_squared_error, r2_score"
   ]
  },
  {
   "cell_type": "markdown",
   "id": "c0687add-80ea-417a-9d74-9e991ddb976b",
   "metadata": {},
   "source": [
    "### Check the Performance"
   ]
  },
  {
   "cell_type": "code",
   "execution_count": null,
   "id": "b64d513f-ca0e-4f6a-8170-459f73421b4b",
   "metadata": {},
   "outputs": [],
   "source": [
    "y_pred = tsr.predict(x_test)\n",
    "\n",
    "mae = mean_absolute_error(y_test, y_pred)\n",
    "mse = mean_squared_error(y_test, y_pred)\n",
    "rmse = np.sqrt(mse)\n",
    "r2 = r2_score(y_test, y_pred)\n",
    "\n",
    "\n",
    "print(f\"📉 MAE: {mae:.2f}\")\n",
    "print(f\"📉 MSE: {mse:.2f}\")\n",
    "print(f\"📉 RMSE: {rmse:.2f}\")\n",
    "print(f\"🎯 R² Score: {r2 * 100:.2f}\")\n"
   ]
  },
  {
   "cell_type": "markdown",
   "id": "29d5b89b-dddd-4f42-9db6-a72772dced69",
   "metadata": {},
   "source": [
    "### Check the Performance of the model through Data Visualization "
   ]
  },
  {
   "cell_type": "code",
   "execution_count": null,
   "id": "b49a9c34-7024-4582-b026-d5e5d3b309d5",
   "metadata": {},
   "outputs": [],
   "source": [
    "# Make sure y_test is 1D (in case it's a DataFrame)\n",
    "y_test_flat = y_test.values.ravel()\n",
    "y_pred_flat = y_pred.ravel()\n",
    "plt.figure(figsize=(10, 6))\n",
    "sns.scatterplot(x=y_test_flat, y=y_pred_flat, color='skyblue', label='Predictions')\n",
    "plt.plot([y_test_flat.min(), y_test_flat.max()], [y_test_flat.min(), y_test_flat.max()], color='red', linestyle='--', label='Ideal Prediction')\n",
    "plt.xlabel(\"Case_Reduction_Rate\")\n",
    "plt.ylabel(\"Predicted Case_Reduction_Rate\")\n",
    "plt.title(\"Actual vs Predicted Case_Reduction_Rate\")\n",
    "plt.legend()\n",
    "plt.grid(True)\n",
    "plt.show()\n"
   ]
  },
  {
   "cell_type": "markdown",
   "id": "d56fd450-acae-4b36-886f-aba7d050ec67",
   "metadata": {},
   "source": [
    "## 📌 Conclusion\n",
    "\n",
    "In this project, we implemented a **Theil-Sen Regressor**, a robust regression technique well-suited for handling outliers and noisy datasets.  \n",
    "The workflow included:\n",
    "- Data loading and preprocessing  \n",
    "- Splitting data into training and testing sets  \n",
    "- Model training using Theil-Sen Regression  \n",
    "- Evaluation using MAE, MSE, RMSE, and R² Score  \n",
    "\n",
    "**Model Performance:**\n",
    "- 📉 MAE: 1.94  \n",
    "- 📉 MSE: 7.88  \n",
    "- 📉 RMSE: 2.81  \n",
    "- 🎯 R² Score: 99.11% (train) and 99.15% (test)  \n",
    "\n",
    "These results demonstrate **exceptional predictive accuracy** with minimal overfitting, indicating that the model generalizes extremely well to unseen data.  \n",
    "The Theil-Sen Regressor proved to be a powerful choice for this dataset, maintaining high stability even in the presence of noise or potential outliers.  \n",
    "Future improvements could include cross-validation, hyperparameter tuning, and comparison with other robust regression methods to further validate performance.\n"
   ]
  }
 ],
 "metadata": {
  "kernelspec": {
   "display_name": "Python 3 (ipykernel)",
   "language": "python",
   "name": "python3"
  },
  "language_info": {
   "codemirror_mode": {
    "name": "ipython",
    "version": 3
   },
   "file_extension": ".py",
   "mimetype": "text/x-python",
   "name": "python",
   "nbconvert_exporter": "python",
   "pygments_lexer": "ipython3",
   "version": "3.11.0"
  }
 },
 "nbformat": 4,
 "nbformat_minor": 5
}
