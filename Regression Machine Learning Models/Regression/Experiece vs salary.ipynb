{
 "cells": [
  {
   "cell_type": "markdown",
   "id": "ea8cc1cf-f8ae-4700-a4d4-2ad2e9291485",
   "metadata": {},
   "source": [
    "# Import Libraries \n",
    "### Pandas \n",
    "###  Matplotlib\n",
    "###  Seaborn"
   ]
  },
  {
   "cell_type": "code",
   "execution_count": null,
   "id": "1218982e-1a65-4740-85e4-dbbf953e20d1",
   "metadata": {},
   "outputs": [],
   "source": [
    "import pandas as pd\n",
    "import seaborn as sns\n",
    "import matplotlib.pyplot as plt\n",
    "\n",
    "\n",
    " "
   ]
  },
  {
   "cell_type": "markdown",
   "id": "e0a9201e-709e-418e-ad9c-79c6d04225ec",
   "metadata": {},
   "source": [
    "### Read CSV "
   ]
  },
  {
   "cell_type": "code",
   "execution_count": null,
   "id": "92a43e40-7fcf-4ba4-ad03-5aad9c7aa158",
   "metadata": {},
   "outputs": [],
   "source": [
    "dataset= pd.read_csv(r\"C:\\Users\\zabiz\\Downloads\\ML_Models\\Simple Linear Regression\\Salary_dataset.csv\")\n",
    "dataset\n"
   ]
  },
  {
   "cell_type": "markdown",
   "id": "ed5ff13d-2758-4c13-b3f6-06a6f818e346",
   "metadata": {},
   "source": [
    "### Drop Un-necessary Column"
   ]
  },
  {
   "cell_type": "code",
   "execution_count": null,
   "id": "92419884-6339-4c30-96d3-afedd35fe2f4",
   "metadata": {},
   "outputs": [],
   "source": [
    "df = dataset.drop(\"Unnamed: 0\", axis=1)\n",
    "df.head(10)"
   ]
  },
  {
   "cell_type": "markdown",
   "id": "31962c25-1a49-43d3-8224-ed5956cd1d54",
   "metadata": {},
   "source": [
    "### Check About Our Data "
   ]
  },
  {
   "cell_type": "code",
   "execution_count": null,
   "id": "245fb6e8-0a62-4f54-a870-d2b6990a7b3b",
   "metadata": {},
   "outputs": [],
   "source": [
    "df.info()"
   ]
  },
  {
   "cell_type": "markdown",
   "id": "a7c97b9c-d386-4f0c-abaa-62e75b59c6e1",
   "metadata": {},
   "source": [
    "### Check Null Value In Data"
   ]
  },
  {
   "cell_type": "code",
   "execution_count": null,
   "id": "7308cadb-0e0b-472c-9ee6-dcc9a7022f45",
   "metadata": {},
   "outputs": [],
   "source": [
    "df.isnull().sum()"
   ]
  },
  {
   "cell_type": "markdown",
   "id": "8c3ee199-0004-4531-a604-ece5b02b98fb",
   "metadata": {},
   "source": [
    "### Check statistical summaries"
   ]
  },
  {
   "cell_type": "code",
   "execution_count": null,
   "id": "c16b642b-d639-43ae-b42e-5f1d37a497d0",
   "metadata": {
    "scrolled": true
   },
   "outputs": [],
   "source": [
    "df.describe()"
   ]
  },
  {
   "cell_type": "markdown",
   "id": "af6863d0-1d24-4114-a0aa-6049fee096a7",
   "metadata": {},
   "source": [
    "### Check Distribution of Data "
   ]
  },
  {
   "cell_type": "code",
   "execution_count": null,
   "id": "2a616327-511e-480f-8009-500fcbdf1f8c",
   "metadata": {},
   "outputs": [],
   "source": [
    "plt.figure(figsize=(5, 2))  \n",
    "plt.hist(df)                \n",
    "plt.show() "
   ]
  },
  {
   "cell_type": "markdown",
   "id": "5457da2b-b2a1-49ad-b60a-3ce9ea289662",
   "metadata": {},
   "source": [
    "### Distribute the data in X and Y varibale ( Dependent or Independet Variable)"
   ]
  },
  {
   "cell_type": "code",
   "execution_count": null,
   "id": "0245f496-9d50-48fa-bfb3-1d516cc8b25b",
   "metadata": {},
   "outputs": [],
   "source": [
    "x= dataset[[\"YearsExperience\"]]\n",
    "y = dataset[[\"Salary\"]]"
   ]
  },
  {
   "cell_type": "markdown",
   "id": "167f11fa-97e6-48f2-b260-56fd8aeabedc",
   "metadata": {},
   "source": [
    "### Model Selection ( Data split it into Test And Train)"
   ]
  },
  {
   "cell_type": "code",
   "execution_count": null,
   "id": "7fcbe418-6180-4698-b4d8-97e8159a051c",
   "metadata": {},
   "outputs": [],
   "source": [
    "from sklearn.model_selection import train_test_split"
   ]
  },
  {
   "cell_type": "code",
   "execution_count": null,
   "id": "14115895-b4b8-4d13-a540-98121c3e63cb",
   "metadata": {},
   "outputs": [],
   "source": [
    "x_train , x_test , y_train , y_test = train_test_split(x,y , test_size=0.2, random_state=14)"
   ]
  },
  {
   "cell_type": "markdown",
   "id": "65d41b6f-2eed-4b74-83ff-34d740030823",
   "metadata": {},
   "source": [
    "### Select Machine Learning Model (Linear Regression)"
   ]
  },
  {
   "cell_type": "code",
   "execution_count": null,
   "id": "733e8f3e-41a3-4abc-b0a2-b2d440c4b6ee",
   "metadata": {},
   "outputs": [],
   "source": [
    "from sklearn.linear_model import LinearRegression"
   ]
  },
  {
   "cell_type": "markdown",
   "id": "5e38036d-d800-4823-a8c7-066aaebb7576",
   "metadata": {},
   "source": [
    "### Apply Machine Learning Model "
   ]
  },
  {
   "cell_type": "code",
   "execution_count": null,
   "id": "cdb6700a-1fb5-439c-96fd-c0f9a8005077",
   "metadata": {},
   "outputs": [],
   "source": [
    "lr = LinearRegression()\n",
    "lr.fit(x_train, y_train)\n"
   ]
  },
  {
   "cell_type": "code",
   "execution_count": null,
   "id": "8cbd4a63-2085-4b4c-ae3c-c1a28cff6403",
   "metadata": {},
   "outputs": [],
   "source": [
    "### Check the Score (Mean Accuracy) of Machine Learning Model For Check the ovverfitting of model but our Model is (No ovverfit )"
   ]
  },
  {
   "cell_type": "code",
   "execution_count": null,
   "id": "cc9e9ba2-7bb5-4b19-92ef-d9d71df5dddf",
   "metadata": {},
   "outputs": [],
   "source": [
    "lr.score(x_test, y_test)* 100 , lr.score(x_train,y_train)*100"
   ]
  },
  {
   "cell_type": "markdown",
   "id": "8a39aea3-6046-4a2a-a410-22cd56335e14",
   "metadata": {},
   "source": [
    "### Prediction The Value "
   ]
  },
  {
   "cell_type": "code",
   "execution_count": null,
   "id": "b86ff1ac-01f8-4d3b-aad5-925a50329037",
   "metadata": {},
   "outputs": [],
   "source": [
    "lg = lr.predict(df[[\"YearsExperience\"]])  \n",
    "df[\"Prediction\"] = lg  \n"
   ]
  },
  {
   "cell_type": "markdown",
   "id": "6e86c525-2683-4f18-bc6b-16fc85fff850",
   "metadata": {},
   "source": [
    "### Draw Prediction Line and See our Model performance Into Graphical Representation"
   ]
  },
  {
   "cell_type": "code",
   "execution_count": null,
   "id": "aac15b8c-b1ef-4161-bd81-ce21ffb4ab4e",
   "metadata": {},
   "outputs": [],
   "source": [
    "sns.scatterplot(x=\"YearsExperience\", y=\"Salary\", data=df, hue=\"Prediction\", palette=\"viridis\")\n",
    "plt.plot(df[\"YearsExperience\"], df[\"Prediction\"], color=\"g\", label=\"Regression Line\")\n",
    "plt.title(\"Years of Experience vs Salary (with Predictions)\")\n",
    "plt.xlabel(\"Years of Experience\")\n",
    "plt.ylabel(\"Salary\")\n",
    "plt.legend()\n",
    "plt.show()"
   ]
  },
  {
   "cell_type": "markdown",
   "id": "856a0672-8255-4b9f-88fc-0241da1d201e",
   "metadata": {},
   "source": [
    "### Import Again library for check the Matrics"
   ]
  },
  {
   "cell_type": "code",
   "execution_count": null,
   "id": "82140f9a-dcf3-49e3-8ee1-53016ab34d02",
   "metadata": {},
   "outputs": [],
   "source": [
    "from sklearn.metrics import mean_absolute_error, mean_squared_error, r2_score"
   ]
  },
  {
   "cell_type": "markdown",
   "id": "3d6e86d1-5d2c-4def-ad35-414a7808b934",
   "metadata": {},
   "source": [
    "### Import Numpy Library"
   ]
  },
  {
   "cell_type": "code",
   "execution_count": null,
   "id": "10840d41-a032-4cb5-8fe4-a73b476dfb9a",
   "metadata": {},
   "outputs": [],
   "source": [
    "import numpy as np"
   ]
  },
  {
   "cell_type": "markdown",
   "id": "a70eabef-270f-4a08-aa00-ea42996e606b",
   "metadata": {},
   "source": [
    "### Check The Metrics "
   ]
  },
  {
   "cell_type": "code",
   "execution_count": null,
   "id": "ca4dcc63-7021-440a-9ffc-e54b9fc1ee40",
   "metadata": {},
   "outputs": [],
   "source": [
    "mae = mean_absolute_error(df[\"Salary\"], df[\"Prediction\"]) \n",
    "mse = mean_squared_error(df[\"Salary\"], df[\"Prediction\"])\n",
    "rmse = np.sqrt(mse)\n",
    "r2 = r2_score(df[\"Salary\"], df[\"Prediction\"])\n",
    "\n",
    "\n",
    "print(\"Mean Absolute Error (MAE):\", mae)\n",
    "print(\"Mean Squared Error (MSE):\", mse)\n",
    "print(\"Root Mean Squared Error (RMSE):\", rmse)\n",
    "print(\"R² Score:\", r2)"
   ]
  },
  {
   "cell_type": "markdown",
   "id": "557e1b4a-8065-48af-be89-be5df3be54c3",
   "metadata": {},
   "source": [
    "## 📌 Conclusion:\n",
    "\n",
    "This notebook builds a simple yet effective Linear Regression model to predict salaries based on years of experience.\n",
    "\n",
    "✅ The model achieved:\n",
    "- R² Score: ~95% on training and test sets\n",
    "- Low MAE, MSE, and RMSE\n",
    "\n",
    "💡 Interpretation:\n",
    "There’s a strong positive linear relationship between experience and salary. This model is suitable for predicting future salaries and can be further improved by adding more features or testing with new datasets.\n",
    "\n",
    "#MachineLearning #LinearRegression #SalaryPrediction #Python #DataScience\n"
   ]
  },
  {
   "cell_type": "code",
   "execution_count": null,
   "id": "1348abd4-09b5-47e1-baf7-378a9e9514b3",
   "metadata": {},
   "outputs": [],
   "source": []
  }
 ],
 "metadata": {
  "kernelspec": {
   "display_name": "Python 3 (ipykernel)",
   "language": "python",
   "name": "python3"
  },
  "language_info": {
   "codemirror_mode": {
    "name": "ipython",
    "version": 3
   },
   "file_extension": ".py",
   "mimetype": "text/x-python",
   "name": "python",
   "nbconvert_exporter": "python",
   "pygments_lexer": "ipython3",
   "version": "3.11.0"
  }
 },
 "nbformat": 4,
 "nbformat_minor": 5
}
