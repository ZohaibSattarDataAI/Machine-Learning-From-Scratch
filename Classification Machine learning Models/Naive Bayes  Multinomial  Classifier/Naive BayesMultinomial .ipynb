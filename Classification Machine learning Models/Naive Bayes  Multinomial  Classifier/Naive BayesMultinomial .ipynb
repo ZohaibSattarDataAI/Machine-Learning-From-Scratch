{
 "cells": [
  {
   "cell_type": "markdown",
   "id": "432d6361-4fb0-4666-b179-d97febca07de",
   "metadata": {},
   "source": [
    "## 📌 Step 1: Import Required "
   ]
  },
  {
   "cell_type": "code",
   "execution_count": 1,
   "id": "ab46eedf-f9ff-40ae-bc78-185857505c67",
   "metadata": {},
   "outputs": [],
   "source": [
    "import pandas as pd\n",
    "import numpy as np\n",
    "import seaborn as sns\n",
    "import matplotlib.pyplot  as plt"
   ]
  },
  {
   "cell_type": "markdown",
   "id": "607a47c6-ec82-4650-bf49-6583392be1c3",
   "metadata": {},
   "source": [
    "## 📌 Step 2: Load the Dataset"
   ]
  },
  {
   "cell_type": "code",
   "execution_count": 2,
   "id": "28a9e337-5bb0-49a6-bd3f-1c29549e5432",
   "metadata": {},
   "outputs": [],
   "source": [
    "df = pd.read_csv(r\"C:\\Users\\zabiz\\Downloads\\ML_Models\\Classification\\MultiNominal Naive Bayes\\Text Dataset.csv\")"
   ]
  },
  {
   "cell_type": "markdown",
   "id": "51b647db-2adc-42bc-bfbf-30a95bcf5d76",
   "metadata": {},
   "source": [
    "## 📌 Step 3: View First 5 Rows of Dataset"
   ]
  },
  {
   "cell_type": "code",
   "execution_count": 3,
   "id": "30a9f7e2-6122-41e8-a332-95be44c4d440",
   "metadata": {},
   "outputs": [
    {
     "data": {
      "text/html": [
       "<div>\n",
       "<style scoped>\n",
       "    .dataframe tbody tr th:only-of-type {\n",
       "        vertical-align: middle;\n",
       "    }\n",
       "\n",
       "    .dataframe tbody tr th {\n",
       "        vertical-align: top;\n",
       "    }\n",
       "\n",
       "    .dataframe thead th {\n",
       "        text-align: right;\n",
       "    }\n",
       "</style>\n",
       "<table border=\"1\" class=\"dataframe\">\n",
       "  <thead>\n",
       "    <tr style=\"text-align: right;\">\n",
       "      <th></th>\n",
       "      <th>id</th>\n",
       "      <th>text</th>\n",
       "      <th>label</th>\n",
       "    </tr>\n",
       "  </thead>\n",
       "  <tbody>\n",
       "    <tr>\n",
       "      <th>0</th>\n",
       "      <td>0</td>\n",
       "      <td>schedule team schedule schedule meeting buy buy</td>\n",
       "      <td>not spam</td>\n",
       "    </tr>\n",
       "    <tr>\n",
       "      <th>1</th>\n",
       "      <td>1</td>\n",
       "      <td>discount urgent lottery winner winner assignme...</td>\n",
       "      <td>spam</td>\n",
       "    </tr>\n",
       "    <tr>\n",
       "      <th>2</th>\n",
       "      <td>2</td>\n",
       "      <td>project schedule schedule schedule team buy cash</td>\n",
       "      <td>not spam</td>\n",
       "    </tr>\n",
       "    <tr>\n",
       "      <th>3</th>\n",
       "      <td>3</td>\n",
       "      <td>money winner cash deal urgent meeting assignment</td>\n",
       "      <td>spam</td>\n",
       "    </tr>\n",
       "    <tr>\n",
       "      <th>4</th>\n",
       "      <td>4</td>\n",
       "      <td>lottery urgent lottery discount offer work report</td>\n",
       "      <td>spam</td>\n",
       "    </tr>\n",
       "  </tbody>\n",
       "</table>\n",
       "</div>"
      ],
      "text/plain": [
       "   id                                               text     label\n",
       "0   0    schedule team schedule schedule meeting buy buy  not spam\n",
       "1   1  discount urgent lottery winner winner assignme...      spam\n",
       "2   2   project schedule schedule schedule team buy cash  not spam\n",
       "3   3   money winner cash deal urgent meeting assignment      spam\n",
       "4   4  lottery urgent lottery discount offer work report      spam"
      ]
     },
     "execution_count": 3,
     "metadata": {},
     "output_type": "execute_result"
    }
   ],
   "source": [
    "df.head()"
   ]
  },
  {
   "cell_type": "markdown",
   "id": "cced6e8b-5559-4b34-a8bd-d9540920d356",
   "metadata": {},
   "source": [
    "## 📌 Step 4: Check Dataset Shape"
   ]
  },
  {
   "cell_type": "code",
   "execution_count": 4,
   "id": "fc099950-c45a-437c-8078-0cd9d2576d8d",
   "metadata": {},
   "outputs": [
    {
     "data": {
      "text/plain": [
       "(30000, 3)"
      ]
     },
     "execution_count": 4,
     "metadata": {},
     "output_type": "execute_result"
    }
   ],
   "source": [
    "df.shape"
   ]
  },
  {
   "cell_type": "markdown",
   "id": "5dad8f7e-0f40-4dbf-bae6-e178899663dd",
   "metadata": {},
   "source": [
    "## 📌 Step 5: Drop Unnecessary Columns"
   ]
  },
  {
   "cell_type": "code",
   "execution_count": 5,
   "id": "76aadd09-5b0c-4f2b-97bb-d555df4a9c5d",
   "metadata": {},
   "outputs": [],
   "source": [
    "df = df.drop(columns=[\"id\"],axis=1)"
   ]
  },
  {
   "cell_type": "markdown",
   "id": "489d148b-7e25-4c8a-bef2-7bd8e4bb9c61",
   "metadata": {},
   "source": [
    "## 📌 Step 6 : Check dataset after Removing Columns"
   ]
  },
  {
   "cell_type": "code",
   "execution_count": 6,
   "id": "934b82aa-fe16-4d62-b568-47bfa9ea9fe0",
   "metadata": {},
   "outputs": [
    {
     "data": {
      "text/html": [
       "<div>\n",
       "<style scoped>\n",
       "    .dataframe tbody tr th:only-of-type {\n",
       "        vertical-align: middle;\n",
       "    }\n",
       "\n",
       "    .dataframe tbody tr th {\n",
       "        vertical-align: top;\n",
       "    }\n",
       "\n",
       "    .dataframe thead th {\n",
       "        text-align: right;\n",
       "    }\n",
       "</style>\n",
       "<table border=\"1\" class=\"dataframe\">\n",
       "  <thead>\n",
       "    <tr style=\"text-align: right;\">\n",
       "      <th></th>\n",
       "      <th>text</th>\n",
       "      <th>label</th>\n",
       "    </tr>\n",
       "  </thead>\n",
       "  <tbody>\n",
       "    <tr>\n",
       "      <th>0</th>\n",
       "      <td>schedule team schedule schedule meeting buy buy</td>\n",
       "      <td>not spam</td>\n",
       "    </tr>\n",
       "    <tr>\n",
       "      <th>1</th>\n",
       "      <td>discount urgent lottery winner winner assignme...</td>\n",
       "      <td>spam</td>\n",
       "    </tr>\n",
       "    <tr>\n",
       "      <th>2</th>\n",
       "      <td>project schedule schedule schedule team buy cash</td>\n",
       "      <td>not spam</td>\n",
       "    </tr>\n",
       "    <tr>\n",
       "      <th>3</th>\n",
       "      <td>money winner cash deal urgent meeting assignment</td>\n",
       "      <td>spam</td>\n",
       "    </tr>\n",
       "    <tr>\n",
       "      <th>4</th>\n",
       "      <td>lottery urgent lottery discount offer work report</td>\n",
       "      <td>spam</td>\n",
       "    </tr>\n",
       "  </tbody>\n",
       "</table>\n",
       "</div>"
      ],
      "text/plain": [
       "                                                text     label\n",
       "0    schedule team schedule schedule meeting buy buy  not spam\n",
       "1  discount urgent lottery winner winner assignme...      spam\n",
       "2   project schedule schedule schedule team buy cash  not spam\n",
       "3   money winner cash deal urgent meeting assignment      spam\n",
       "4  lottery urgent lottery discount offer work report      spam"
      ]
     },
     "execution_count": 6,
     "metadata": {},
     "output_type": "execute_result"
    }
   ],
   "source": [
    "df.head()"
   ]
  },
  {
   "cell_type": "markdown",
   "id": "a507f8cc-1a66-4628-b1f3-1e725526d00a",
   "metadata": {},
   "source": [
    "## 📌 Step 7: Check Missing Values in Dataset"
   ]
  },
  {
   "cell_type": "code",
   "execution_count": 23,
   "id": "1a640aed-abf2-484f-8ee1-88b84d3e58ae",
   "metadata": {},
   "outputs": [
    {
     "data": {
      "text/plain": [
       "text     0\n",
       "label    0\n",
       "dtype: int64"
      ]
     },
     "execution_count": 23,
     "metadata": {},
     "output_type": "execute_result"
    }
   ],
   "source": [
    "df.isnull().sum()"
   ]
  },
  {
   "cell_type": "markdown",
   "id": "960f82f0-ea33-4186-a1c9-5be788671af7",
   "metadata": {},
   "source": [
    "## 📌 Step 8:Dataset Information"
   ]
  },
  {
   "cell_type": "code",
   "execution_count": 24,
   "id": "0668ee7f-4a08-430a-ae67-8b1636822fc1",
   "metadata": {},
   "outputs": [
    {
     "name": "stdout",
     "output_type": "stream",
     "text": [
      "<class 'pandas.core.frame.DataFrame'>\n",
      "RangeIndex: 30000 entries, 0 to 29999\n",
      "Data columns (total 2 columns):\n",
      " #   Column  Non-Null Count  Dtype \n",
      "---  ------  --------------  ----- \n",
      " 0   text    30000 non-null  object\n",
      " 1   label   30000 non-null  int64 \n",
      "dtypes: int64(1), object(1)\n",
      "memory usage: 468.9+ KB\n"
     ]
    }
   ],
   "source": [
    "df.info()"
   ]
  },
  {
   "cell_type": "markdown",
   "id": "ec75b7e7-1741-4cca-aa03-e15bbb307f00",
   "metadata": {},
   "source": [
    "## 📌Step 9: Import Label Encoder"
   ]
  },
  {
   "cell_type": "code",
   "execution_count": 7,
   "id": "1ec49cb8-5af8-493b-9272-468c39cc6afd",
   "metadata": {},
   "outputs": [],
   "source": [
    "from sklearn.preprocessing import LabelEncoder"
   ]
  },
  {
   "cell_type": "markdown",
   "id": "f0e91c81-618d-4e4a-8118-0e9848b8a589",
   "metadata": {},
   "source": [
    "## 📌 Step 10: Apply Label Encoder"
   ]
  },
  {
   "cell_type": "code",
   "execution_count": 8,
   "id": "11c88516-a191-4efc-8f94-0750e80bb1d8",
   "metadata": {},
   "outputs": [],
   "source": [
    "le = LabelEncoder()\n",
    "df[\"label\"] =pd.DataFrame(le.fit_transform(df[\"label\"]))"
   ]
  },
  {
   "cell_type": "markdown",
   "id": "84fe1225-f744-4c75-be74-fea1c2e68cbe",
   "metadata": {},
   "source": [
    "## 📌 Step 11:Check Dataset after Encoder"
   ]
  },
  {
   "cell_type": "code",
   "execution_count": 9,
   "id": "6c0b1e12-a90b-44b8-9f87-9be71947e42f",
   "metadata": {},
   "outputs": [],
   "source": [
    "df.head()"
   ]
  },
  {
   "cell_type": "markdown",
   "id": "3c3c2a81-b50f-4256-8852-95f4c4fec6ac",
   "metadata": {},
   "source": [
    "## 📌 Step 11: Split Features (X) and Target (y)"
   ]
  },
  {
   "cell_type": "code",
   "execution_count": 10,
   "id": "8ce60b8e-7a4f-4ef2-bece-5a59d73d4058",
   "metadata": {},
   "outputs": [],
   "source": [
    "x =df[\"text\"]\n",
    "y=df[\"label\"]"
   ]
  },
  {
   "cell_type": "markdown",
   "id": "7774afce-47a9-42f8-b78e-b0887024fd93",
   "metadata": {},
   "source": [
    "## 📌 Step 12: Import CountVectorizer"
   ]
  },
  {
   "cell_type": "code",
   "execution_count": 11,
   "id": "28aae111-5f3c-4d0a-bd06-032d2c218b78",
   "metadata": {},
   "outputs": [],
   "source": [
    "from sklearn.feature_extraction.text import CountVectorizer"
   ]
  },
  {
   "cell_type": "markdown",
   "id": "ec8943dc-671a-41d8-82c9-353c68ffeb1a",
   "metadata": {},
   "source": [
    "## 📌 Step 13: Vectorize the Text Data using CountVectorizer"
   ]
  },
  {
   "cell_type": "code",
   "execution_count": 12,
   "id": "8ec645ed-0576-49a2-a7e8-68ebfe4279ca",
   "metadata": {},
   "outputs": [],
   "source": [
    "cv = CountVectorizer()\n",
    "X_vec = cv.fit_transform(x)"
   ]
  },
  {
   "cell_type": "markdown",
   "id": "37738a4c-f76a-4f0b-8272-2275163b7678",
   "metadata": {},
   "source": [
    "## 📌 Step 14: Train-Test Split\n",
    "- The dataset is divided into **training** and **testing** parts.  \n",
    "- Typically, **70–80%** of the data is used for training, and **20–30%** is used for testing.  "
   ]
  },
  {
   "cell_type": "code",
   "execution_count": 13,
   "id": "f6b738b8-e163-4c38-b9fb-f05459ba5aca",
   "metadata": {},
   "outputs": [],
   "source": [
    "from sklearn.model_selection import train_test_split"
   ]
  },
  {
   "cell_type": "markdown",
   "id": "a9329076-a862-4a27-8ca1-c5c0d326eeb7",
   "metadata": {},
   "source": [
    "## 📌 Step 15: Train-Test Split (with different random states)\n",
    "- The dataset is divided into **training** (80%) and **testing** (20%).  \n",
    "- Changing the value of `random_state` will result in different splits of the data,  \n",
    "  but the overall distribution of the dataset will remain the same.  "
   ]
  },
  {
   "cell_type": "code",
   "execution_count": 14,
   "id": "dc4c5ba5-f9a0-40a8-a519-4b35652dc084",
   "metadata": {},
   "outputs": [],
   "source": [
    "x_train, x_test, y_train, y_test = train_test_split(X_vec, y, test_size=0.2, random_state=42)"
   ]
  },
  {
   "cell_type": "markdown",
   "id": "6cbfba18-ddee-4482-84e3-92e526a6caaf",
   "metadata": {},
   "source": [
    "## 📌 Step 15: Import naive_bayes  \n",
    "- Random Forest is an **MultinomialNB** that builds multiple decision trees.  \n",
    "- Each tree is trained on a random subset of the data, and the final prediction is made through **majority voting**.  \n",
    "- This algorithm is very powerful for classification tasks.  "
   ]
  },
  {
   "cell_type": "code",
   "execution_count": 16,
   "id": "408e7f0e-5920-4acd-91dc-70419b558a74",
   "metadata": {},
   "outputs": [],
   "source": [
    "from sklearn.naive_bayes import MultinomialNB"
   ]
  },
  {
   "cell_type": "markdown",
   "id": "9c794d4e-4963-4a7d-8999-3122b1d027fe",
   "metadata": {},
   "source": [
    "## 📌 Step 16: Initialize & Train Naïve Bayes Classifier  \n",
    "\n",
    "We initialize the **MultinomialNB (Naïve Bayes Classifier)** with the following parameters:  \n",
    "\n",
    "- **alpha=1.0** → Additive (Laplace/Lidstone) smoothing parameter to handle zero probabilities.  \n",
    "\n",
    "Then, we train the model on our training dataset.  "
   ]
  },
  {
   "cell_type": "code",
   "execution_count": 20,
   "id": "bddda06f-950f-4a29-a102-be60a5eff8bd",
   "metadata": {},
   "outputs": [
    {
     "data": {
      "text/html": [
       "<style>#sk-container-id-1 {\n",
       "  /* Definition of color scheme common for light and dark mode */\n",
       "  --sklearn-color-text: #000;\n",
       "  --sklearn-color-text-muted: #666;\n",
       "  --sklearn-color-line: gray;\n",
       "  /* Definition of color scheme for unfitted estimators */\n",
       "  --sklearn-color-unfitted-level-0: #fff5e6;\n",
       "  --sklearn-color-unfitted-level-1: #f6e4d2;\n",
       "  --sklearn-color-unfitted-level-2: #ffe0b3;\n",
       "  --sklearn-color-unfitted-level-3: chocolate;\n",
       "  /* Definition of color scheme for fitted estimators */\n",
       "  --sklearn-color-fitted-level-0: #f0f8ff;\n",
       "  --sklearn-color-fitted-level-1: #d4ebff;\n",
       "  --sklearn-color-fitted-level-2: #b3dbfd;\n",
       "  --sklearn-color-fitted-level-3: cornflowerblue;\n",
       "\n",
       "  /* Specific color for light theme */\n",
       "  --sklearn-color-text-on-default-background: var(--sg-text-color, var(--theme-code-foreground, var(--jp-content-font-color1, black)));\n",
       "  --sklearn-color-background: var(--sg-background-color, var(--theme-background, var(--jp-layout-color0, white)));\n",
       "  --sklearn-color-border-box: var(--sg-text-color, var(--theme-code-foreground, var(--jp-content-font-color1, black)));\n",
       "  --sklearn-color-icon: #696969;\n",
       "\n",
       "  @media (prefers-color-scheme: dark) {\n",
       "    /* Redefinition of color scheme for dark theme */\n",
       "    --sklearn-color-text-on-default-background: var(--sg-text-color, var(--theme-code-foreground, var(--jp-content-font-color1, white)));\n",
       "    --sklearn-color-background: var(--sg-background-color, var(--theme-background, var(--jp-layout-color0, #111)));\n",
       "    --sklearn-color-border-box: var(--sg-text-color, var(--theme-code-foreground, var(--jp-content-font-color1, white)));\n",
       "    --sklearn-color-icon: #878787;\n",
       "  }\n",
       "}\n",
       "\n",
       "#sk-container-id-1 {\n",
       "  color: var(--sklearn-color-text);\n",
       "}\n",
       "\n",
       "#sk-container-id-1 pre {\n",
       "  padding: 0;\n",
       "}\n",
       "\n",
       "#sk-container-id-1 input.sk-hidden--visually {\n",
       "  border: 0;\n",
       "  clip: rect(1px 1px 1px 1px);\n",
       "  clip: rect(1px, 1px, 1px, 1px);\n",
       "  height: 1px;\n",
       "  margin: -1px;\n",
       "  overflow: hidden;\n",
       "  padding: 0;\n",
       "  position: absolute;\n",
       "  width: 1px;\n",
       "}\n",
       "\n",
       "#sk-container-id-1 div.sk-dashed-wrapped {\n",
       "  border: 1px dashed var(--sklearn-color-line);\n",
       "  margin: 0 0.4em 0.5em 0.4em;\n",
       "  box-sizing: border-box;\n",
       "  padding-bottom: 0.4em;\n",
       "  background-color: var(--sklearn-color-background);\n",
       "}\n",
       "\n",
       "#sk-container-id-1 div.sk-container {\n",
       "  /* jupyter's `normalize.less` sets `[hidden] { display: none; }`\n",
       "     but bootstrap.min.css set `[hidden] { display: none !important; }`\n",
       "     so we also need the `!important` here to be able to override the\n",
       "     default hidden behavior on the sphinx rendered scikit-learn.org.\n",
       "     See: https://github.com/scikit-learn/scikit-learn/issues/21755 */\n",
       "  display: inline-block !important;\n",
       "  position: relative;\n",
       "}\n",
       "\n",
       "#sk-container-id-1 div.sk-text-repr-fallback {\n",
       "  display: none;\n",
       "}\n",
       "\n",
       "div.sk-parallel-item,\n",
       "div.sk-serial,\n",
       "div.sk-item {\n",
       "  /* draw centered vertical line to link estimators */\n",
       "  background-image: linear-gradient(var(--sklearn-color-text-on-default-background), var(--sklearn-color-text-on-default-background));\n",
       "  background-size: 2px 100%;\n",
       "  background-repeat: no-repeat;\n",
       "  background-position: center center;\n",
       "}\n",
       "\n",
       "/* Parallel-specific style estimator block */\n",
       "\n",
       "#sk-container-id-1 div.sk-parallel-item::after {\n",
       "  content: \"\";\n",
       "  width: 100%;\n",
       "  border-bottom: 2px solid var(--sklearn-color-text-on-default-background);\n",
       "  flex-grow: 1;\n",
       "}\n",
       "\n",
       "#sk-container-id-1 div.sk-parallel {\n",
       "  display: flex;\n",
       "  align-items: stretch;\n",
       "  justify-content: center;\n",
       "  background-color: var(--sklearn-color-background);\n",
       "  position: relative;\n",
       "}\n",
       "\n",
       "#sk-container-id-1 div.sk-parallel-item {\n",
       "  display: flex;\n",
       "  flex-direction: column;\n",
       "}\n",
       "\n",
       "#sk-container-id-1 div.sk-parallel-item:first-child::after {\n",
       "  align-self: flex-end;\n",
       "  width: 50%;\n",
       "}\n",
       "\n",
       "#sk-container-id-1 div.sk-parallel-item:last-child::after {\n",
       "  align-self: flex-start;\n",
       "  width: 50%;\n",
       "}\n",
       "\n",
       "#sk-container-id-1 div.sk-parallel-item:only-child::after {\n",
       "  width: 0;\n",
       "}\n",
       "\n",
       "/* Serial-specific style estimator block */\n",
       "\n",
       "#sk-container-id-1 div.sk-serial {\n",
       "  display: flex;\n",
       "  flex-direction: column;\n",
       "  align-items: center;\n",
       "  background-color: var(--sklearn-color-background);\n",
       "  padding-right: 1em;\n",
       "  padding-left: 1em;\n",
       "}\n",
       "\n",
       "\n",
       "/* Toggleable style: style used for estimator/Pipeline/ColumnTransformer box that is\n",
       "clickable and can be expanded/collapsed.\n",
       "- Pipeline and ColumnTransformer use this feature and define the default style\n",
       "- Estimators will overwrite some part of the style using the `sk-estimator` class\n",
       "*/\n",
       "\n",
       "/* Pipeline and ColumnTransformer style (default) */\n",
       "\n",
       "#sk-container-id-1 div.sk-toggleable {\n",
       "  /* Default theme specific background. It is overwritten whether we have a\n",
       "  specific estimator or a Pipeline/ColumnTransformer */\n",
       "  background-color: var(--sklearn-color-background);\n",
       "}\n",
       "\n",
       "/* Toggleable label */\n",
       "#sk-container-id-1 label.sk-toggleable__label {\n",
       "  cursor: pointer;\n",
       "  display: flex;\n",
       "  width: 100%;\n",
       "  margin-bottom: 0;\n",
       "  padding: 0.5em;\n",
       "  box-sizing: border-box;\n",
       "  text-align: center;\n",
       "  align-items: start;\n",
       "  justify-content: space-between;\n",
       "  gap: 0.5em;\n",
       "}\n",
       "\n",
       "#sk-container-id-1 label.sk-toggleable__label .caption {\n",
       "  font-size: 0.6rem;\n",
       "  font-weight: lighter;\n",
       "  color: var(--sklearn-color-text-muted);\n",
       "}\n",
       "\n",
       "#sk-container-id-1 label.sk-toggleable__label-arrow:before {\n",
       "  /* Arrow on the left of the label */\n",
       "  content: \"▸\";\n",
       "  float: left;\n",
       "  margin-right: 0.25em;\n",
       "  color: var(--sklearn-color-icon);\n",
       "}\n",
       "\n",
       "#sk-container-id-1 label.sk-toggleable__label-arrow:hover:before {\n",
       "  color: var(--sklearn-color-text);\n",
       "}\n",
       "\n",
       "/* Toggleable content - dropdown */\n",
       "\n",
       "#sk-container-id-1 div.sk-toggleable__content {\n",
       "  display: none;\n",
       "  text-align: left;\n",
       "  /* unfitted */\n",
       "  background-color: var(--sklearn-color-unfitted-level-0);\n",
       "}\n",
       "\n",
       "#sk-container-id-1 div.sk-toggleable__content.fitted {\n",
       "  /* fitted */\n",
       "  background-color: var(--sklearn-color-fitted-level-0);\n",
       "}\n",
       "\n",
       "#sk-container-id-1 div.sk-toggleable__content pre {\n",
       "  margin: 0.2em;\n",
       "  border-radius: 0.25em;\n",
       "  color: var(--sklearn-color-text);\n",
       "  /* unfitted */\n",
       "  background-color: var(--sklearn-color-unfitted-level-0);\n",
       "}\n",
       "\n",
       "#sk-container-id-1 div.sk-toggleable__content.fitted pre {\n",
       "  /* unfitted */\n",
       "  background-color: var(--sklearn-color-fitted-level-0);\n",
       "}\n",
       "\n",
       "#sk-container-id-1 input.sk-toggleable__control:checked~div.sk-toggleable__content {\n",
       "  /* Expand drop-down */\n",
       "  display: block;\n",
       "  width: 100%;\n",
       "  overflow: visible;\n",
       "}\n",
       "\n",
       "#sk-container-id-1 input.sk-toggleable__control:checked~label.sk-toggleable__label-arrow:before {\n",
       "  content: \"▾\";\n",
       "}\n",
       "\n",
       "/* Pipeline/ColumnTransformer-specific style */\n",
       "\n",
       "#sk-container-id-1 div.sk-label input.sk-toggleable__control:checked~label.sk-toggleable__label {\n",
       "  color: var(--sklearn-color-text);\n",
       "  background-color: var(--sklearn-color-unfitted-level-2);\n",
       "}\n",
       "\n",
       "#sk-container-id-1 div.sk-label.fitted input.sk-toggleable__control:checked~label.sk-toggleable__label {\n",
       "  background-color: var(--sklearn-color-fitted-level-2);\n",
       "}\n",
       "\n",
       "/* Estimator-specific style */\n",
       "\n",
       "/* Colorize estimator box */\n",
       "#sk-container-id-1 div.sk-estimator input.sk-toggleable__control:checked~label.sk-toggleable__label {\n",
       "  /* unfitted */\n",
       "  background-color: var(--sklearn-color-unfitted-level-2);\n",
       "}\n",
       "\n",
       "#sk-container-id-1 div.sk-estimator.fitted input.sk-toggleable__control:checked~label.sk-toggleable__label {\n",
       "  /* fitted */\n",
       "  background-color: var(--sklearn-color-fitted-level-2);\n",
       "}\n",
       "\n",
       "#sk-container-id-1 div.sk-label label.sk-toggleable__label,\n",
       "#sk-container-id-1 div.sk-label label {\n",
       "  /* The background is the default theme color */\n",
       "  color: var(--sklearn-color-text-on-default-background);\n",
       "}\n",
       "\n",
       "/* On hover, darken the color of the background */\n",
       "#sk-container-id-1 div.sk-label:hover label.sk-toggleable__label {\n",
       "  color: var(--sklearn-color-text);\n",
       "  background-color: var(--sklearn-color-unfitted-level-2);\n",
       "}\n",
       "\n",
       "/* Label box, darken color on hover, fitted */\n",
       "#sk-container-id-1 div.sk-label.fitted:hover label.sk-toggleable__label.fitted {\n",
       "  color: var(--sklearn-color-text);\n",
       "  background-color: var(--sklearn-color-fitted-level-2);\n",
       "}\n",
       "\n",
       "/* Estimator label */\n",
       "\n",
       "#sk-container-id-1 div.sk-label label {\n",
       "  font-family: monospace;\n",
       "  font-weight: bold;\n",
       "  display: inline-block;\n",
       "  line-height: 1.2em;\n",
       "}\n",
       "\n",
       "#sk-container-id-1 div.sk-label-container {\n",
       "  text-align: center;\n",
       "}\n",
       "\n",
       "/* Estimator-specific */\n",
       "#sk-container-id-1 div.sk-estimator {\n",
       "  font-family: monospace;\n",
       "  border: 1px dotted var(--sklearn-color-border-box);\n",
       "  border-radius: 0.25em;\n",
       "  box-sizing: border-box;\n",
       "  margin-bottom: 0.5em;\n",
       "  /* unfitted */\n",
       "  background-color: var(--sklearn-color-unfitted-level-0);\n",
       "}\n",
       "\n",
       "#sk-container-id-1 div.sk-estimator.fitted {\n",
       "  /* fitted */\n",
       "  background-color: var(--sklearn-color-fitted-level-0);\n",
       "}\n",
       "\n",
       "/* on hover */\n",
       "#sk-container-id-1 div.sk-estimator:hover {\n",
       "  /* unfitted */\n",
       "  background-color: var(--sklearn-color-unfitted-level-2);\n",
       "}\n",
       "\n",
       "#sk-container-id-1 div.sk-estimator.fitted:hover {\n",
       "  /* fitted */\n",
       "  background-color: var(--sklearn-color-fitted-level-2);\n",
       "}\n",
       "\n",
       "/* Specification for estimator info (e.g. \"i\" and \"?\") */\n",
       "\n",
       "/* Common style for \"i\" and \"?\" */\n",
       "\n",
       ".sk-estimator-doc-link,\n",
       "a:link.sk-estimator-doc-link,\n",
       "a:visited.sk-estimator-doc-link {\n",
       "  float: right;\n",
       "  font-size: smaller;\n",
       "  line-height: 1em;\n",
       "  font-family: monospace;\n",
       "  background-color: var(--sklearn-color-background);\n",
       "  border-radius: 1em;\n",
       "  height: 1em;\n",
       "  width: 1em;\n",
       "  text-decoration: none !important;\n",
       "  margin-left: 0.5em;\n",
       "  text-align: center;\n",
       "  /* unfitted */\n",
       "  border: var(--sklearn-color-unfitted-level-1) 1pt solid;\n",
       "  color: var(--sklearn-color-unfitted-level-1);\n",
       "}\n",
       "\n",
       ".sk-estimator-doc-link.fitted,\n",
       "a:link.sk-estimator-doc-link.fitted,\n",
       "a:visited.sk-estimator-doc-link.fitted {\n",
       "  /* fitted */\n",
       "  border: var(--sklearn-color-fitted-level-1) 1pt solid;\n",
       "  color: var(--sklearn-color-fitted-level-1);\n",
       "}\n",
       "\n",
       "/* On hover */\n",
       "div.sk-estimator:hover .sk-estimator-doc-link:hover,\n",
       ".sk-estimator-doc-link:hover,\n",
       "div.sk-label-container:hover .sk-estimator-doc-link:hover,\n",
       ".sk-estimator-doc-link:hover {\n",
       "  /* unfitted */\n",
       "  background-color: var(--sklearn-color-unfitted-level-3);\n",
       "  color: var(--sklearn-color-background);\n",
       "  text-decoration: none;\n",
       "}\n",
       "\n",
       "div.sk-estimator.fitted:hover .sk-estimator-doc-link.fitted:hover,\n",
       ".sk-estimator-doc-link.fitted:hover,\n",
       "div.sk-label-container:hover .sk-estimator-doc-link.fitted:hover,\n",
       ".sk-estimator-doc-link.fitted:hover {\n",
       "  /* fitted */\n",
       "  background-color: var(--sklearn-color-fitted-level-3);\n",
       "  color: var(--sklearn-color-background);\n",
       "  text-decoration: none;\n",
       "}\n",
       "\n",
       "/* Span, style for the box shown on hovering the info icon */\n",
       ".sk-estimator-doc-link span {\n",
       "  display: none;\n",
       "  z-index: 9999;\n",
       "  position: relative;\n",
       "  font-weight: normal;\n",
       "  right: .2ex;\n",
       "  padding: .5ex;\n",
       "  margin: .5ex;\n",
       "  width: min-content;\n",
       "  min-width: 20ex;\n",
       "  max-width: 50ex;\n",
       "  color: var(--sklearn-color-text);\n",
       "  box-shadow: 2pt 2pt 4pt #999;\n",
       "  /* unfitted */\n",
       "  background: var(--sklearn-color-unfitted-level-0);\n",
       "  border: .5pt solid var(--sklearn-color-unfitted-level-3);\n",
       "}\n",
       "\n",
       ".sk-estimator-doc-link.fitted span {\n",
       "  /* fitted */\n",
       "  background: var(--sklearn-color-fitted-level-0);\n",
       "  border: var(--sklearn-color-fitted-level-3);\n",
       "}\n",
       "\n",
       ".sk-estimator-doc-link:hover span {\n",
       "  display: block;\n",
       "}\n",
       "\n",
       "/* \"?\"-specific style due to the `<a>` HTML tag */\n",
       "\n",
       "#sk-container-id-1 a.estimator_doc_link {\n",
       "  float: right;\n",
       "  font-size: 1rem;\n",
       "  line-height: 1em;\n",
       "  font-family: monospace;\n",
       "  background-color: var(--sklearn-color-background);\n",
       "  border-radius: 1rem;\n",
       "  height: 1rem;\n",
       "  width: 1rem;\n",
       "  text-decoration: none;\n",
       "  /* unfitted */\n",
       "  color: var(--sklearn-color-unfitted-level-1);\n",
       "  border: var(--sklearn-color-unfitted-level-1) 1pt solid;\n",
       "}\n",
       "\n",
       "#sk-container-id-1 a.estimator_doc_link.fitted {\n",
       "  /* fitted */\n",
       "  border: var(--sklearn-color-fitted-level-1) 1pt solid;\n",
       "  color: var(--sklearn-color-fitted-level-1);\n",
       "}\n",
       "\n",
       "/* On hover */\n",
       "#sk-container-id-1 a.estimator_doc_link:hover {\n",
       "  /* unfitted */\n",
       "  background-color: var(--sklearn-color-unfitted-level-3);\n",
       "  color: var(--sklearn-color-background);\n",
       "  text-decoration: none;\n",
       "}\n",
       "\n",
       "#sk-container-id-1 a.estimator_doc_link.fitted:hover {\n",
       "  /* fitted */\n",
       "  background-color: var(--sklearn-color-fitted-level-3);\n",
       "}\n",
       "\n",
       ".estimator-table summary {\n",
       "    padding: .5rem;\n",
       "    font-family: monospace;\n",
       "    cursor: pointer;\n",
       "}\n",
       "\n",
       ".estimator-table details[open] {\n",
       "    padding-left: 0.1rem;\n",
       "    padding-right: 0.1rem;\n",
       "    padding-bottom: 0.3rem;\n",
       "}\n",
       "\n",
       ".estimator-table .parameters-table {\n",
       "    margin-left: auto !important;\n",
       "    margin-right: auto !important;\n",
       "}\n",
       "\n",
       ".estimator-table .parameters-table tr:nth-child(odd) {\n",
       "    background-color: #fff;\n",
       "}\n",
       "\n",
       ".estimator-table .parameters-table tr:nth-child(even) {\n",
       "    background-color: #f6f6f6;\n",
       "}\n",
       "\n",
       ".estimator-table .parameters-table tr:hover {\n",
       "    background-color: #e0e0e0;\n",
       "}\n",
       "\n",
       ".estimator-table table td {\n",
       "    border: 1px solid rgba(106, 105, 104, 0.232);\n",
       "}\n",
       "\n",
       ".user-set td {\n",
       "    color:rgb(255, 94, 0);\n",
       "    text-align: left;\n",
       "}\n",
       "\n",
       ".user-set td.value pre {\n",
       "    color:rgb(255, 94, 0) !important;\n",
       "    background-color: transparent !important;\n",
       "}\n",
       "\n",
       ".default td {\n",
       "    color: black;\n",
       "    text-align: left;\n",
       "}\n",
       "\n",
       ".user-set td i,\n",
       ".default td i {\n",
       "    color: black;\n",
       "}\n",
       "\n",
       ".copy-paste-icon {\n",
       "    background-image: url(data:image/svg+xml;base64,PHN2ZyB4bWxucz0iaHR0cDovL3d3dy53My5vcmcvMjAwMC9zdmciIHZpZXdCb3g9IjAgMCA0NDggNTEyIj48IS0tIUZvbnQgQXdlc29tZSBGcmVlIDYuNy4yIGJ5IEBmb250YXdlc29tZSAtIGh0dHBzOi8vZm9udGF3ZXNvbWUuY29tIExpY2Vuc2UgLSBodHRwczovL2ZvbnRhd2Vzb21lLmNvbS9saWNlbnNlL2ZyZWUgQ29weXJpZ2h0IDIwMjUgRm9udGljb25zLCBJbmMuLS0+PHBhdGggZD0iTTIwOCAwTDMzMi4xIDBjMTIuNyAwIDI0LjkgNS4xIDMzLjkgMTQuMWw2Ny45IDY3LjljOSA5IDE0LjEgMjEuMiAxNC4xIDMzLjlMNDQ4IDMzNmMwIDI2LjUtMjEuNSA0OC00OCA0OGwtMTkyIDBjLTI2LjUgMC00OC0yMS41LTQ4LTQ4bDAtMjg4YzAtMjYuNSAyMS41LTQ4IDQ4LTQ4ek00OCAxMjhsODAgMCAwIDY0LTY0IDAgMCAyNTYgMTkyIDAgMC0zMiA2NCAwIDAgNDhjMCAyNi41LTIxLjUgNDgtNDggNDhMNDggNTEyYy0yNi41IDAtNDgtMjEuNS00OC00OEwwIDE3NmMwLTI2LjUgMjEuNS00OCA0OC00OHoiLz48L3N2Zz4=);\n",
       "    background-repeat: no-repeat;\n",
       "    background-size: 14px 14px;\n",
       "    background-position: 0;\n",
       "    display: inline-block;\n",
       "    width: 14px;\n",
       "    height: 14px;\n",
       "    cursor: pointer;\n",
       "}\n",
       "</style><body><div id=\"sk-container-id-1\" class=\"sk-top-container\"><div class=\"sk-text-repr-fallback\"><pre>MultinomialNB()</pre><b>In a Jupyter environment, please rerun this cell to show the HTML representation or trust the notebook. <br />On GitHub, the HTML representation is unable to render, please try loading this page with nbviewer.org.</b></div><div class=\"sk-container\" hidden><div class=\"sk-item\"><div class=\"sk-estimator fitted sk-toggleable\"><input class=\"sk-toggleable__control sk-hidden--visually\" id=\"sk-estimator-id-1\" type=\"checkbox\" checked><label for=\"sk-estimator-id-1\" class=\"sk-toggleable__label fitted sk-toggleable__label-arrow\"><div><div>MultinomialNB</div></div><div><a class=\"sk-estimator-doc-link fitted\" rel=\"noreferrer\" target=\"_blank\" href=\"https://scikit-learn.org/1.7/modules/generated/sklearn.naive_bayes.MultinomialNB.html\">?<span>Documentation for MultinomialNB</span></a><span class=\"sk-estimator-doc-link fitted\">i<span>Fitted</span></span></div></label><div class=\"sk-toggleable__content fitted\" data-param-prefix=\"\">\n",
       "        <div class=\"estimator-table\">\n",
       "            <details>\n",
       "                <summary>Parameters</summary>\n",
       "                <table class=\"parameters-table\">\n",
       "                  <tbody>\n",
       "                    \n",
       "        <tr class=\"default\">\n",
       "            <td><i class=\"copy-paste-icon\"\n",
       "                 onclick=\"copyToClipboard('alpha',\n",
       "                          this.parentElement.nextElementSibling)\"\n",
       "            ></i></td>\n",
       "            <td class=\"param\">alpha&nbsp;</td>\n",
       "            <td class=\"value\">1.0</td>\n",
       "        </tr>\n",
       "    \n",
       "\n",
       "        <tr class=\"default\">\n",
       "            <td><i class=\"copy-paste-icon\"\n",
       "                 onclick=\"copyToClipboard('force_alpha',\n",
       "                          this.parentElement.nextElementSibling)\"\n",
       "            ></i></td>\n",
       "            <td class=\"param\">force_alpha&nbsp;</td>\n",
       "            <td class=\"value\">True</td>\n",
       "        </tr>\n",
       "    \n",
       "\n",
       "        <tr class=\"default\">\n",
       "            <td><i class=\"copy-paste-icon\"\n",
       "                 onclick=\"copyToClipboard('fit_prior',\n",
       "                          this.parentElement.nextElementSibling)\"\n",
       "            ></i></td>\n",
       "            <td class=\"param\">fit_prior&nbsp;</td>\n",
       "            <td class=\"value\">True</td>\n",
       "        </tr>\n",
       "    \n",
       "\n",
       "        <tr class=\"default\">\n",
       "            <td><i class=\"copy-paste-icon\"\n",
       "                 onclick=\"copyToClipboard('class_prior',\n",
       "                          this.parentElement.nextElementSibling)\"\n",
       "            ></i></td>\n",
       "            <td class=\"param\">class_prior&nbsp;</td>\n",
       "            <td class=\"value\">None</td>\n",
       "        </tr>\n",
       "    \n",
       "                  </tbody>\n",
       "                </table>\n",
       "            </details>\n",
       "        </div>\n",
       "    </div></div></div></div></div><script>function copyToClipboard(text, element) {\n",
       "    // Get the parameter prefix from the closest toggleable content\n",
       "    const toggleableContent = element.closest('.sk-toggleable__content');\n",
       "    const paramPrefix = toggleableContent ? toggleableContent.dataset.paramPrefix : '';\n",
       "    const fullParamName = paramPrefix ? `${paramPrefix}${text}` : text;\n",
       "\n",
       "    const originalStyle = element.style;\n",
       "    const computedStyle = window.getComputedStyle(element);\n",
       "    const originalWidth = computedStyle.width;\n",
       "    const originalHTML = element.innerHTML.replace('Copied!', '');\n",
       "\n",
       "    navigator.clipboard.writeText(fullParamName)\n",
       "        .then(() => {\n",
       "            element.style.width = originalWidth;\n",
       "            element.style.color = 'green';\n",
       "            element.innerHTML = \"Copied!\";\n",
       "\n",
       "            setTimeout(() => {\n",
       "                element.innerHTML = originalHTML;\n",
       "                element.style = originalStyle;\n",
       "            }, 2000);\n",
       "        })\n",
       "        .catch(err => {\n",
       "            console.error('Failed to copy:', err);\n",
       "            element.style.color = 'red';\n",
       "            element.innerHTML = \"Failed!\";\n",
       "            setTimeout(() => {\n",
       "                element.innerHTML = originalHTML;\n",
       "                element.style = originalStyle;\n",
       "            }, 2000);\n",
       "        });\n",
       "    return false;\n",
       "}\n",
       "\n",
       "document.querySelectorAll('.fa-regular.fa-copy').forEach(function(element) {\n",
       "    const toggleableContent = element.closest('.sk-toggleable__content');\n",
       "    const paramPrefix = toggleableContent ? toggleableContent.dataset.paramPrefix : '';\n",
       "    const paramName = element.parentElement.nextElementSibling.textContent.trim();\n",
       "    const fullParamName = paramPrefix ? `${paramPrefix}${paramName}` : paramName;\n",
       "\n",
       "    element.setAttribute('title', fullParamName);\n",
       "});\n",
       "</script></body>"
      ],
      "text/plain": [
       "MultinomialNB()"
      ]
     },
     "execution_count": 20,
     "metadata": {},
     "output_type": "execute_result"
    }
   ],
   "source": [
    "mnb = MultinomialNB(alpha=1.0)\n",
    "mnb.fit(x_train, y_train)"
   ]
  },
  {
   "cell_type": "markdown",
   "id": "ac674311-70ea-4951-92f6-64b825647b28",
   "metadata": {},
   "source": [
    "## 📌 Step 17: Model Accuracy (Train vs Test)\n",
    "\n",
    "- `rfc.score(x_test, y_test)` → Checks the accuracy on the **test dataset**.  \n",
    "- `rfc.score(x_train, y_train)` → Checks the accuracy on the **training dataset**.  \n",
    "- We multiply by `*100` to convert the values into percentages.  \n",
    "\n",
    "✔️ **Test and Train values of this model:** `(100.00 , 100.00)`  \n",
    "\n",
    "👉 This step helps us check whether the model is **overfitting** or not.  \n",
    "- If **Train Accuracy = 100%** and **Test Accuracy is much lower**, then the model is likely overfitting.  \n",
    "- Here, the gap is very small (100% vs 100%), which means the model might be **slightly overfitting**, but it still **generalizes well** to unseen data.  \n"
   ]
  },
  {
   "cell_type": "code",
   "execution_count": 22,
   "id": "583fb680-fe16-436f-9438-fa80f124c6d2",
   "metadata": {},
   "outputs": [
    {
     "data": {
      "text/plain": [
       "(100.0, 100.0)"
      ]
     },
     "execution_count": 22,
     "metadata": {},
     "output_type": "execute_result"
    }
   ],
   "source": [
    "mnb.score(x_test,y_test)*100,mnb.score(x_train,y_train)*100,"
   ]
  },
  {
   "cell_type": "markdown",
   "id": "ee3383d8-e88a-4127-9d1f-de5923c7cfc8",
   "metadata": {},
   "source": [
    "## 📌 Step 18: Adding Predictions to the Dataset\n",
    "\n",
    "We can use our trained **naive bayes** to make predictions on the entire dataset `x` and store the results in a new column.  "
   ]
  },
  {
   "cell_type": "code",
   "execution_count": 29,
   "id": "53c4e2c5-0b20-47c4-a3d1-20f9bfa7d0d0",
   "metadata": {},
   "outputs": [
    {
     "name": "stdout",
     "output_type": "stream",
     "text": [
      "                                                text  label  prediction\n",
      "0    schedule team schedule schedule meeting buy buy      0           0\n",
      "1  discount urgent lottery winner winner assignme...      1           1\n",
      "2   project schedule schedule schedule team buy cash      0           0\n",
      "3   money winner cash deal urgent meeting assignment      1           1\n",
      "4  lottery urgent lottery discount offer work report      1           1\n"
     ]
    }
   ],
   "source": [
    "df[\"prediction\"] = mnb.predict(X_vec)\n",
    "print(df.head())"
   ]
  },
  {
   "cell_type": "markdown",
   "id": "078dd19e-d7ba-4f8d-9458-a33015faebfe",
   "metadata": {},
   "source": [
    "## 📌 Step 19: Making Predictions on Test Data\n",
    "\n",
    "Once the model is trained, we use it to predict the target variable (`y_test`) from the unseen test features (`x_test`)."
   ]
  },
  {
   "cell_type": "code",
   "execution_count": 31,
   "id": "bc8ece9f-f053-4e1c-bfce-86f7b83462e8",
   "metadata": {},
   "outputs": [],
   "source": [
    "y_pred = mnb.predict(x_test)"
   ]
  },
  {
   "cell_type": "markdown",
   "id": "ef7edc51-aa17-4e07-bf0c-5246d50872e9",
   "metadata": {},
   "source": [
    "## 📌 Step 20: Cross-Validation (Model Stability Check)\n",
    "\n",
    "- We applied **5-Fold Cross Validation** to check the stability and generalization of our Naïve Bayes model.  \n",
    "- In each fold, the dataset is split into training and testing parts, and accuracy is measured.  \n",
    "\n",
    "✔️ **Cross Validation Scores (per fold):** `[1.0, 1.0, 1.0, 1.0, 1.0]`  \n",
    "✔️ **Mean Accuracy:** `100.0%`  \n",
    "✔️ **Standard Deviation:** `0.0`  \n",
    "\n",
    "👉 Since the scores are **perfectly identical across all folds** with **zero standard deviation**, this indicates that our model is **extremely stable and perfectly consistent**, achieving a flawless **100% accuracy** across different data splits.  \n"
   ]
  },
  {
   "cell_type": "code",
   "execution_count": 32,
   "id": "9877265e-1102-4715-974f-e3efcef151ad",
   "metadata": {},
   "outputs": [],
   "source": [
    "from sklearn.model_selection import cross_val_score"
   ]
  },
  {
   "cell_type": "code",
   "execution_count": 34,
   "id": "0ee5fc88-8245-4122-a1cc-894f54483319",
   "metadata": {},
   "outputs": [
    {
     "name": "stdout",
     "output_type": "stream",
     "text": [
      "Cross Validation Scores: [1. 1. 1. 1. 1.]\n",
      "Mean Accuracy: 100.0\n",
      "Standard Deviation: 0.0\n"
     ]
    }
   ],
   "source": [
    "cv_scores = cross_val_score(mnb, X_vec, y, cv=5, scoring='accuracy')\n",
    "\n",
    "print(\"Cross Validation Scores:\", cv_scores)\n",
    "print(\"Mean Accuracy:\", cv_scores.mean()*100)\n",
    "print(\"Standard Deviation:\", cv_scores.std()*100)"
   ]
  },
  {
   "cell_type": "markdown",
   "id": "8419a97d-5d75-47bb-bb44-1b57a403b2c1",
   "metadata": {},
   "source": [
    "## 📌 Step 21: Import Classification Metrics  \n",
    "\n",
    "To evaluate the model’s performance, we import important metrics from `sklearn.metrics`:  \n",
    "\n",
    "- **Confusion Matrix** → To visualize correct vs incorrect predictions  \n",
    "- **Precision Score** → How precise the model is in positive predictions  \n",
    "- **Recall Score** → How well the model captures actual positives  \n",
    "- **F1 Score** → Balance between Precision & Recall  "
   ]
  },
  {
   "cell_type": "code",
   "execution_count": 35,
   "id": "cd99d53b-3821-4e73-abf3-e02ebacb8009",
   "metadata": {},
   "outputs": [],
   "source": [
    "from sklearn.metrics import f1_score,precision_score,confusion_matrix,recall_score"
   ]
  },
  {
   "cell_type": "markdown",
   "id": "e7dea019-ae59-4963-b13a-e49e21457fa6",
   "metadata": {},
   "source": [
    "## 📌 Step 22: Precision Score  \n",
    "\n",
    "- **Precision** measures how many of the predicted positive cases are actually positive.  \n",
    "- We use `average='weighted'` because our target variable has multiple classes (Approved).  \n",
    "- Multiplying by `100` gives the result in **percentage form**.  "
   ]
  },
  {
   "cell_type": "code",
   "execution_count": 36,
   "id": "f8e068e6-7917-4e81-a5b5-02bcfd778313",
   "metadata": {},
   "outputs": [
    {
     "name": "stdout",
     "output_type": "stream",
     "text": [
      "Precision Score: 100.0\n"
     ]
    }
   ],
   "source": [
    "precision = precision_score(y_test, y_pred, average='weighted')*100\n",
    "print(\"Precision Score:\", precision)"
   ]
  },
  {
   "cell_type": "markdown",
   "id": "a2e78747-cf79-4a3f-8ad6-b0d371c91970",
   "metadata": {},
   "source": [
    "## 📌 Step 23: F1 Score  \n",
    "\n",
    "- **F1 Score** is the harmonic mean of **Precision** and **Recall**.  \n",
    "- It provides a balance between both metrics, especially useful when the dataset is imbalanced.  \n",
    "- We use `average='weighted'` for multi-class classification.  \n",
    "- Multiplying by `100` gives the result in **percentage form**."
   ]
  },
  {
   "cell_type": "code",
   "execution_count": 38,
   "id": "83f73a57-4174-4598-855e-a2e8650a0d0a",
   "metadata": {},
   "outputs": [
    {
     "name": "stdout",
     "output_type": "stream",
     "text": [
      "F1 Score: 100.0\n"
     ]
    }
   ],
   "source": [
    "f1 = f1_score(y_test, y_pred, average='weighted')*100\n",
    "print(\"F1 Score:\", f1)"
   ]
  },
  {
   "cell_type": "markdown",
   "id": "4d9e3bff-9fed-4325-be2f-237110b9c2bc",
   "metadata": {},
   "source": [
    "#### 📌 Step 24: Recall Score  \n",
    "\n",
    "- **Recall** measures how many actual positive cases the model correctly identified.  \n",
    "- We use `average='weighted'` to handle multiple classes fairly.  \n",
    "- Multiplying by `100` gives the result in **percentage form**. "
   ]
  },
  {
   "cell_type": "code",
   "execution_count": 37,
   "id": "bd0e3399-a3eb-487c-a6b7-1b76ed0dc6c9",
   "metadata": {},
   "outputs": [
    {
     "name": "stdout",
     "output_type": "stream",
     "text": [
      "Recall Score: 100.0\n"
     ]
    }
   ],
   "source": [
    "recall = recall_score(y_test, y_pred, average='weighted')*100\n",
    "print(\"Recall Score:\", recall)"
   ]
  },
  {
   "cell_type": "markdown",
   "id": "2292ff9c-164f-40dd-8082-e646bd0ad839",
   "metadata": {},
   "source": [
    "## 📌 Step 25: Confusion Matrix (Numerical Form)\n",
    "\n",
    "- A **Confusion Matrix** shows how many predictions were correct vs incorrect for each class.  \n",
    "- It is especially useful for evaluating classification models. "
   ]
  },
  {
   "cell_type": "code",
   "execution_count": 39,
   "id": "4e69b75e-b935-44b4-b4d4-47e66e9fad44",
   "metadata": {},
   "outputs": [
    {
     "data": {
      "text/plain": [
       "array([[3005,    0],\n",
       "       [   0, 2995]])"
      ]
     },
     "execution_count": 39,
     "metadata": {},
     "output_type": "execute_result"
    }
   ],
   "source": [
    "cm = confusion_matrix(y_test, y_pred)\n",
    "cm"
   ]
  },
  {
   "cell_type": "markdown",
   "id": "cbe92317-62ed-4a91-9460-482c9b67ce1d",
   "metadata": {},
   "source": [
    "## 📌 Step 26: Confusion Matrix Heatmap  \n",
    "\n",
    "- To better **visualize** the confusion matrix, we use a **heatmap**.  \n",
    "- The darker the square, the higher the number of predictions for that cell.  \n",
    "- X-axis → Predicted Labels  \n",
    "- Y-axis → True Labels"
   ]
  },
  {
   "cell_type": "code",
   "execution_count": 40,
   "id": "71450e67-dac5-445d-87e8-352244125f31",
   "metadata": {},
   "outputs": [
    {
     "data": {
      "image/png": "[encoded data removed]",
      "text/plain": [
       "<Figure size 600x500 with 2 Axes>"
      ]
     },
     "metadata": {},
     "output_type": "display_data"
    }
   ],
   "source": [
    "plt.figure(figsize=(6,5))\n",
    "sns.heatmap(cm, annot=True, fmt=\"d\", cmap=\"Blues\")\n",
    "plt.xlabel(\"Predicted Label\")\n",
    "plt.ylabel(\"True Label\")\n",
    "plt.title(\"Confusion Matrix Heatmap\")\n",
    "plt.show()\n"
   ]
  },
  {
   "cell_type": "markdown",
   "id": "ba83933c-d93a-4b86-a71a-2ce953266f3e",
   "metadata": {},
   "source": [
    "## 📌 Step 27: Actual vs Predicted (Graphical Representation)\n",
    "\n",
    "- To visually compare the **actual vs predicted labels**, we plot them side by side.  \n",
    "- Each point represents a sample in the test dataset.  \n",
    "- Black dots = **Actual Labels**  \n",
    "- Blue crosses = **Predicted Labels**"
   ]
  },
  {
   "cell_type": "code",
   "execution_count": 43,
   "id": "d85fc68e-836e-4eb3-8d28-439e348050a3",
   "metadata": {},
   "outputs": [
    {
     "data": {
      "image/png": "[encoded data removed]",
      "text/plain": [
       "<Figure size 1000x600 with 1 Axes>"
      ]
     },
     "metadata": {},
     "output_type": "display_data"
    }
   ],
   "source": [
    "plt.figure(figsize=(10,6))\n",
    "plt.scatter(range(len(y_test)), y_test, color=\"black\", label=\"Actual\")\n",
    "plt.scatter(range(len(y_pred)), y_pred, color=\"skyblue\", marker=\"x\", label=\"Predicted\")\n",
    "plt.xlabel(\"Sample Index\")\n",
    "plt.ylabel(\"Label (0=Not Spam, 1=Spam)\")\n",
    "plt.title(\"Actual vs Predicted Labels (Naive Bayes)\")\n",
    "plt.legend()\n",
    "plt.grid(True)\n",
    "plt.show()\n"
   ]
  },
  {
   "cell_type": "markdown",
   "id": "919a74d0-bbfa-4f1f-910f-31848762e1ec",
   "metadata": {},
   "source": [
    "## Conclusion  \n",
    "\n",
    "This notebook demonstrates a complete *Multinomial Naive Bayes Classification (MultinomialNB) pipeline* using the prepared dataset:  \n",
    "- Data loading, preprocessing, and encoding of categorical/text features.  \n",
    "- Vectorization using **CountVectorizer** to transform text data into numerical form.  \n",
    "- Train/test split for robust model evaluation.  \n",
    "- Model initialization and training using *MultinomialNB*.  \n",
    "- Comprehensive evaluation with *accuracy, precision, recall, F1-score, confusion matrix, and cross-validation*.  \n",
    "- Visualization of results with confusion matrix heatmap and prediction plots.  \n",
    "\n",
    "---\n",
    "\n",
    "### 🔍 Key Findings  \n",
    "- The MultinomialNB classifier achieved **100% mean accuracy** across 5-fold cross-validation with **zero variance (std = 0.0)**, proving the model’s *extreme stability and perfect consistency*.  \n",
    "- On the test set:  \n",
    "  - **Accuracy = 100%**  \n",
    "  - **Confusion Matrix:**  \n",
    "    ```\n",
    "    [[TN, FP],  \n",
    "     [FN, TP]]  \n",
    "    ```  \n",
    "    *(all predictions matched perfectly with no misclassifications)*  \n",
    "  - **Precision, Recall, and F1-score** were all **100%**, indicating flawless classification.  \n",
    "- These results confirm that the model perfectly fits the dataset, making it *highly reliable* for this task.  \n",
    "\n",
    "---\n",
    "\n",
    "### ✅ Recommendations Before Production Use  \n",
    "1. Double-check for **data leakage** (since 100% accuracy can sometimes indicate overlap between train/test features).  \n",
    "2. Apply *StratifiedKFold cross-validation* to validate robustness across imbalanced class distributions.  \n",
    "3. Save the trained model (`joblib.dump()`) for deployment.  \n",
    "4. Experiment with **TF-IDF Vectorization** to compare results against CountVectorizer.  \n",
    "5. Add *ROC-AUC* and *precision-recall curves* for deeper evaluation.  \n",
    "\n",
    "---\n",
    "\n",
    "# ✅ Final Conclusion  \n",
    "\n",
    "In this project, we successfully implemented a **Multinomial Naive Bayes Classifier** for text-based classification tasks, completing the full workflow from *data preprocessing to evaluation and visualization*.  \n",
    "\n",
    "#### 🔑 Highlights:  \n",
    "- 📊 Achieved **100% mean cross-validation accuracy** with no variance across folds.  \n",
    "- 🧪 Confusion matrix revealed **perfect classification performance** with zero errors.  \n",
    "- ⚡ Model stability across different splits confirms the robustness of MultinomialNB.  \n",
    "\n",
    "#### 💡 Implications:  \n",
    "Multinomial Naive Bayes is *extremely effective for text-based problems* where features are frequency counts (word counts, n-grams). Its interpretability, speed, and flawless accuracy here highlight its strength in **spam detection, sentiment analysis, topic classification, and document categorization**.  \n",
    "\n",
    "---\n",
    "\n",
    "> ✅ Overall, this project delivers a *clear, reproducible, and high-performing Multinomial Naive Bayes pipeline*, making it an outstanding addition to your machine learning GitHub portfolio.  \n"
   ]
  },
  {
   "cell_type": "code",
   "execution_count": null,
   "id": "3520618c-1119-4eb5-ada1-4db30b926728",
   "metadata": {},
   "outputs": [],
   "source": []
  }
 ],
 "metadata": {
  "kernelspec": {
   "display_name": "Python 3 (ipykernel)",
   "language": "python",
   "name": "python3"
  },
  "language_info": {
   "codemirror_mode": {
    "name": "ipython",
    "version": 3
   },
   "file_extension": ".py",
   "mimetype": "text/x-python",
   "name": "python",
   "nbconvert_exporter": "python",
   "pygments_lexer": "ipython3",
   "version": "3.13.7"
  }
 },
 "nbformat": 4,
 "nbformat_minor": 5
}
